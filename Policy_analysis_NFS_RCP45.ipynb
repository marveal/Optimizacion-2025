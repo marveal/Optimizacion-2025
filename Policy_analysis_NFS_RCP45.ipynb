{
 "cells": [
  {
   "cell_type": "markdown",
   "metadata": {},
   "source": [
    "# NFS optimization notebook"
   ]
  },
  {
   "cell_type": "markdown",
   "metadata": {},
   "source": [
    "En este primer ejemplo vamos a optimizar las parcelas del inventario siguiendo los siguientes objetivos:\n",
    "\n",
    "- Maximizar el valor de la cosecha (Madera)\n",
    "- Maximizar el valor de GROT en parcelas que presentan un coste inferior a 150 nok (Bionergia)\n",
    "- Maximmizar el CO2 almacenado en productos derivados de la madera (Regulacion climática)\n",
    "  \n",
    "Bajo las siguientes restriciones:\n",
    "\n",
    "- El área dedicada a MiS no debe disminuir"
   ]
  },
  {
   "cell_type": "markdown",
   "metadata": {},
   "source": [
    "## Read the data"
   ]
  },
  {
   "cell_type": "code",
   "execution_count": 6,
   "metadata": {},
   "outputs": [],
   "source": [
    "import multiFunctionalOptimization as MFO"
   ]
  },
  {
   "cell_type": "code",
   "execution_count": 7,
   "metadata": {},
   "outputs": [
    {
     "data": {
      "text/plain": [
       "<module 'multiFunctionalOptimization' from 'C:\\\\Users\\\\mver\\\\Desktop\\\\Class palencia\\\\Optimization analysis\\\\multiFunctionalOptimization.py'>"
      ]
     },
     "execution_count": 7,
     "metadata": {},
     "output_type": "execute_result"
    }
   ],
   "source": [
    "from importlib import reload\n",
    "reload(MFO)"
   ]
  },
  {
   "cell_type": "code",
   "execution_count": 8,
   "metadata": {},
   "outputs": [
    {
     "data": {
      "text/plain": [
       "'Using CLP'"
      ]
     },
     "metadata": {},
     "output_type": "display_data"
    }
   ],
   "source": [
    "mfo = MFO.MultiFunctionalOptimization()"
   ]
  },
  {
   "cell_type": "code",
   "execution_count": 9,
   "metadata": {},
   "outputs": [],
   "source": [
    "filename = \"data_policy_analysis_RCP45.csv\""
   ]
  },
  {
   "cell_type": "code",
   "execution_count": 10,
   "metadata": {},
   "outputs": [
    {
     "name": "stdout",
     "output_type": "stream",
     "text": [
      "CPU times: total: 969 ms\n",
      "Wall time: 1.03 s\n"
     ]
    }
   ],
   "source": [
    "%%time\n",
    "mfo.readData(filename,standsEnu = \"plot_id\",delimeter = \",\",areaCol = \"tsd_ha2total\")"
   ]
  },
  {
   "cell_type": "code",
   "execution_count": 11,
   "metadata": {},
   "outputs": [],
   "source": [
    "mfo.finalizeData(initialTime = 2018)"
   ]
  },
  {
   "cell_type": "code",
   "execution_count": 12,
   "metadata": {},
   "outputs": [
    {
     "data": {
      "text/plain": [
       "Index(['Unnamed: 0', 'period', 'pulp_vol_m3', 'harv_cost_nok_m3',\n",
       "       'harv_cost_u150', 'harv_cost_u200', 'net_increment_m3', 'is_old',\n",
       "       'is_broadleave', 'MiS_classified_plot', 'bilberry_cover_pr',\n",
       "       'GROT_kt_TotNor', 'vol_saw_m3', 'saw_CO2_t', 'vol_panels_m3',\n",
       "       'panels_CO2_t', 'albedo', 'is_steep_terrain', 'is_vernskog',\n",
       "       'is_city_forest', 'shan', 'class_dbh', 'ha2total', 'management',\n",
       "       'harv_net_Mnok_TotNor', 'harv_vol_Mm3_TotNor', 'saw_vol_Mm3_TotNor',\n",
       "       'pulp_vol_Mm3_TotNor', 'dead_vol_Mm3_TotNor', 'tsd_ha2total',\n",
       "       'CO2_forest_Mil_Kt_TotNor', 'CO2_forest_Mil_Kt_TotNor_no_albedo',\n",
       "       'saw_CO2_change_Kt_TotNor', 'saw_CO2_Kt_TotNor',\n",
       "       'panels_CO2_change_Kt_TotNor', 'HWP_C02_TotNor', 'Bilberry_ha_TotNor',\n",
       "       'MiS_ha', 'SawTimber_Mm3_year', 'pulp_Mm3_year', 'GROT_t', 'GROT_m3',\n",
       "       'GROT_Mm3', 'Residues_Mm3_year', 'harvest_demands_Mm3_year',\n",
       "       'regime.class', 'finalFelling', 'is_CCF', 'is_nomanagement',\n",
       "       'is_vers_or_ste', 'FinaL_versk', 'FinaL_city', 'High_classdbh',\n",
       "       'Sha_highclassdbh_Tot_Nor', 'hel.delt.flate', 'fylnr',\n",
       "       'Relative_albedo', 'Relative_shan', 'Relative_ha2total',\n",
       "       'Relative_dead_vol_Mm3_TotNor', 'Relative_tsd_ha2total',\n",
       "       'Relative_CO2_forest_Mil_Kt_TotNor',\n",
       "       'Relative_CO2_forest_Mil_Kt_TotNor_no_albedo',\n",
       "       'Relative_Bilberry_ha_TotNor', 'Relative_MiS_ha',\n",
       "       'Relative_Sha_highclassdbh_Tot_Nor'],\n",
       "      dtype='object')"
      ]
     },
     "execution_count": 12,
     "metadata": {},
     "output_type": "execute_result"
    }
   ],
   "source": [
    "mfo.data.columns"
   ]
  },
  {
   "cell_type": "code",
   "execution_count": 13,
   "metadata": {},
   "outputs": [
    {
     "data": {
      "text/html": [
       "<div>\n",
       "<style scoped>\n",
       "    .dataframe tbody tr th:only-of-type {\n",
       "        vertical-align: middle;\n",
       "    }\n",
       "\n",
       "    .dataframe tbody tr th {\n",
       "        vertical-align: top;\n",
       "    }\n",
       "\n",
       "    .dataframe thead th {\n",
       "        text-align: right;\n",
       "    }\n",
       "</style>\n",
       "<table border=\"1\" class=\"dataframe\">\n",
       "  <thead>\n",
       "    <tr style=\"text-align: right;\">\n",
       "      <th></th>\n",
       "      <th></th>\n",
       "      <th></th>\n",
       "      <th>Unnamed: 0</th>\n",
       "      <th>period</th>\n",
       "      <th>pulp_vol_m3</th>\n",
       "      <th>harv_cost_nok_m3</th>\n",
       "      <th>harv_cost_u150</th>\n",
       "      <th>harv_cost_u200</th>\n",
       "      <th>net_increment_m3</th>\n",
       "      <th>is_old</th>\n",
       "      <th>is_broadleave</th>\n",
       "      <th>MiS_classified_plot</th>\n",
       "      <th>...</th>\n",
       "      <th>Relative_albedo</th>\n",
       "      <th>Relative_shan</th>\n",
       "      <th>Relative_ha2total</th>\n",
       "      <th>Relative_dead_vol_Mm3_TotNor</th>\n",
       "      <th>Relative_tsd_ha2total</th>\n",
       "      <th>Relative_CO2_forest_Mil_Kt_TotNor</th>\n",
       "      <th>Relative_CO2_forest_Mil_Kt_TotNor_no_albedo</th>\n",
       "      <th>Relative_Bilberry_ha_TotNor</th>\n",
       "      <th>Relative_MiS_ha</th>\n",
       "      <th>Relative_Sha_highclassdbh_Tot_Nor</th>\n",
       "    </tr>\n",
       "    <tr>\n",
       "      <th>plot_id</th>\n",
       "      <th>year</th>\n",
       "      <th>regime</th>\n",
       "      <th></th>\n",
       "      <th></th>\n",
       "      <th></th>\n",
       "      <th></th>\n",
       "      <th></th>\n",
       "      <th></th>\n",
       "      <th></th>\n",
       "      <th></th>\n",
       "      <th></th>\n",
       "      <th></th>\n",
       "      <th></th>\n",
       "      <th></th>\n",
       "      <th></th>\n",
       "      <th></th>\n",
       "      <th></th>\n",
       "      <th></th>\n",
       "      <th></th>\n",
       "      <th></th>\n",
       "      <th></th>\n",
       "      <th></th>\n",
       "      <th></th>\n",
       "    </tr>\n",
       "  </thead>\n",
       "  <tbody>\n",
       "    <tr>\n",
       "      <th rowspan=\"5\" valign=\"top\">A03223-0</th>\n",
       "      <th rowspan=\"5\" valign=\"top\">2023</th>\n",
       "      <th>SimOpt_extensive_0</th>\n",
       "      <td>1</td>\n",
       "      <td>t1</td>\n",
       "      <td>147192.671416</td>\n",
       "      <td>588.723595</td>\n",
       "      <td>0</td>\n",
       "      <td>0</td>\n",
       "      <td>2456.848912</td>\n",
       "      <td>0</td>\n",
       "      <td>0</td>\n",
       "      <td>0</td>\n",
       "      <td>...</td>\n",
       "      <td>0.000972</td>\n",
       "      <td>0.000000</td>\n",
       "      <td>0.001038</td>\n",
       "      <td>0.000741</td>\n",
       "      <td>0.001038</td>\n",
       "      <td>-0.044775</td>\n",
       "      <td>-0.046011</td>\n",
       "      <td>0.000958</td>\n",
       "      <td>0.0</td>\n",
       "      <td>0.000000</td>\n",
       "    </tr>\n",
       "    <tr>\n",
       "      <th>SimOpt_extensive_1</th>\n",
       "      <td>17</td>\n",
       "      <td>t1</td>\n",
       "      <td>0.000000</td>\n",
       "      <td>0.000000</td>\n",
       "      <td>0</td>\n",
       "      <td>0</td>\n",
       "      <td>4872.110349</td>\n",
       "      <td>0</td>\n",
       "      <td>0</td>\n",
       "      <td>0</td>\n",
       "      <td>...</td>\n",
       "      <td>0.000888</td>\n",
       "      <td>0.000426</td>\n",
       "      <td>0.001038</td>\n",
       "      <td>0.000741</td>\n",
       "      <td>0.001038</td>\n",
       "      <td>0.002309</td>\n",
       "      <td>0.002530</td>\n",
       "      <td>0.001643</td>\n",
       "      <td>0.0</td>\n",
       "      <td>0.000514</td>\n",
       "    </tr>\n",
       "    <tr>\n",
       "      <th>SimOpt_extensive_10</th>\n",
       "      <td>33</td>\n",
       "      <td>t1</td>\n",
       "      <td>0.000000</td>\n",
       "      <td>0.000000</td>\n",
       "      <td>0</td>\n",
       "      <td>0</td>\n",
       "      <td>4872.110349</td>\n",
       "      <td>0</td>\n",
       "      <td>0</td>\n",
       "      <td>0</td>\n",
       "      <td>...</td>\n",
       "      <td>0.000888</td>\n",
       "      <td>0.000426</td>\n",
       "      <td>0.001038</td>\n",
       "      <td>0.000741</td>\n",
       "      <td>0.001038</td>\n",
       "      <td>0.002309</td>\n",
       "      <td>0.002530</td>\n",
       "      <td>0.001643</td>\n",
       "      <td>0.0</td>\n",
       "      <td>0.000514</td>\n",
       "    </tr>\n",
       "    <tr>\n",
       "      <th>SimOpt_extensive_11</th>\n",
       "      <td>49</td>\n",
       "      <td>t1</td>\n",
       "      <td>0.000000</td>\n",
       "      <td>0.000000</td>\n",
       "      <td>0</td>\n",
       "      <td>0</td>\n",
       "      <td>4872.110349</td>\n",
       "      <td>0</td>\n",
       "      <td>0</td>\n",
       "      <td>0</td>\n",
       "      <td>...</td>\n",
       "      <td>0.000888</td>\n",
       "      <td>0.000426</td>\n",
       "      <td>0.001038</td>\n",
       "      <td>0.000741</td>\n",
       "      <td>0.001038</td>\n",
       "      <td>0.002309</td>\n",
       "      <td>0.002530</td>\n",
       "      <td>0.001643</td>\n",
       "      <td>0.0</td>\n",
       "      <td>0.000514</td>\n",
       "    </tr>\n",
       "    <tr>\n",
       "      <th>SimOpt_extensive_12</th>\n",
       "      <td>65</td>\n",
       "      <td>t1</td>\n",
       "      <td>0.000000</td>\n",
       "      <td>0.000000</td>\n",
       "      <td>0</td>\n",
       "      <td>0</td>\n",
       "      <td>4872.110349</td>\n",
       "      <td>0</td>\n",
       "      <td>0</td>\n",
       "      <td>0</td>\n",
       "      <td>...</td>\n",
       "      <td>0.000888</td>\n",
       "      <td>0.000426</td>\n",
       "      <td>0.001038</td>\n",
       "      <td>0.000741</td>\n",
       "      <td>0.001038</td>\n",
       "      <td>0.002309</td>\n",
       "      <td>0.002530</td>\n",
       "      <td>0.001643</td>\n",
       "      <td>0.0</td>\n",
       "      <td>0.000514</td>\n",
       "    </tr>\n",
       "  </tbody>\n",
       "</table>\n",
       "<p>5 rows × 66 columns</p>\n",
       "</div>"
      ],
      "text/plain": [
       "                                   Unnamed: 0 period    pulp_vol_m3  \\\n",
       "plot_id  year regime                                                  \n",
       "A03223-0 2023 SimOpt_extensive_0            1     t1  147192.671416   \n",
       "              SimOpt_extensive_1           17     t1       0.000000   \n",
       "              SimOpt_extensive_10          33     t1       0.000000   \n",
       "              SimOpt_extensive_11          49     t1       0.000000   \n",
       "              SimOpt_extensive_12          65     t1       0.000000   \n",
       "\n",
       "                                   harv_cost_nok_m3  harv_cost_u150  \\\n",
       "plot_id  year regime                                                  \n",
       "A03223-0 2023 SimOpt_extensive_0         588.723595               0   \n",
       "              SimOpt_extensive_1           0.000000               0   \n",
       "              SimOpt_extensive_10          0.000000               0   \n",
       "              SimOpt_extensive_11          0.000000               0   \n",
       "              SimOpt_extensive_12          0.000000               0   \n",
       "\n",
       "                                   harv_cost_u200  net_increment_m3  is_old  \\\n",
       "plot_id  year regime                                                          \n",
       "A03223-0 2023 SimOpt_extensive_0                0       2456.848912       0   \n",
       "              SimOpt_extensive_1                0       4872.110349       0   \n",
       "              SimOpt_extensive_10               0       4872.110349       0   \n",
       "              SimOpt_extensive_11               0       4872.110349       0   \n",
       "              SimOpt_extensive_12               0       4872.110349       0   \n",
       "\n",
       "                                   is_broadleave  MiS_classified_plot  ...  \\\n",
       "plot_id  year regime                                                   ...   \n",
       "A03223-0 2023 SimOpt_extensive_0               0                    0  ...   \n",
       "              SimOpt_extensive_1               0                    0  ...   \n",
       "              SimOpt_extensive_10              0                    0  ...   \n",
       "              SimOpt_extensive_11              0                    0  ...   \n",
       "              SimOpt_extensive_12              0                    0  ...   \n",
       "\n",
       "                                   Relative_albedo  Relative_shan  \\\n",
       "plot_id  year regime                                                \n",
       "A03223-0 2023 SimOpt_extensive_0          0.000972       0.000000   \n",
       "              SimOpt_extensive_1          0.000888       0.000426   \n",
       "              SimOpt_extensive_10         0.000888       0.000426   \n",
       "              SimOpt_extensive_11         0.000888       0.000426   \n",
       "              SimOpt_extensive_12         0.000888       0.000426   \n",
       "\n",
       "                                   Relative_ha2total  \\\n",
       "plot_id  year regime                                   \n",
       "A03223-0 2023 SimOpt_extensive_0            0.001038   \n",
       "              SimOpt_extensive_1            0.001038   \n",
       "              SimOpt_extensive_10           0.001038   \n",
       "              SimOpt_extensive_11           0.001038   \n",
       "              SimOpt_extensive_12           0.001038   \n",
       "\n",
       "                                   Relative_dead_vol_Mm3_TotNor  \\\n",
       "plot_id  year regime                                              \n",
       "A03223-0 2023 SimOpt_extensive_0                       0.000741   \n",
       "              SimOpt_extensive_1                       0.000741   \n",
       "              SimOpt_extensive_10                      0.000741   \n",
       "              SimOpt_extensive_11                      0.000741   \n",
       "              SimOpt_extensive_12                      0.000741   \n",
       "\n",
       "                                   Relative_tsd_ha2total  \\\n",
       "plot_id  year regime                                       \n",
       "A03223-0 2023 SimOpt_extensive_0                0.001038   \n",
       "              SimOpt_extensive_1                0.001038   \n",
       "              SimOpt_extensive_10               0.001038   \n",
       "              SimOpt_extensive_11               0.001038   \n",
       "              SimOpt_extensive_12               0.001038   \n",
       "\n",
       "                                   Relative_CO2_forest_Mil_Kt_TotNor  \\\n",
       "plot_id  year regime                                                   \n",
       "A03223-0 2023 SimOpt_extensive_0                           -0.044775   \n",
       "              SimOpt_extensive_1                            0.002309   \n",
       "              SimOpt_extensive_10                           0.002309   \n",
       "              SimOpt_extensive_11                           0.002309   \n",
       "              SimOpt_extensive_12                           0.002309   \n",
       "\n",
       "                                   Relative_CO2_forest_Mil_Kt_TotNor_no_albedo  \\\n",
       "plot_id  year regime                                                             \n",
       "A03223-0 2023 SimOpt_extensive_0                                     -0.046011   \n",
       "              SimOpt_extensive_1                                      0.002530   \n",
       "              SimOpt_extensive_10                                     0.002530   \n",
       "              SimOpt_extensive_11                                     0.002530   \n",
       "              SimOpt_extensive_12                                     0.002530   \n",
       "\n",
       "                                   Relative_Bilberry_ha_TotNor  \\\n",
       "plot_id  year regime                                             \n",
       "A03223-0 2023 SimOpt_extensive_0                      0.000958   \n",
       "              SimOpt_extensive_1                      0.001643   \n",
       "              SimOpt_extensive_10                     0.001643   \n",
       "              SimOpt_extensive_11                     0.001643   \n",
       "              SimOpt_extensive_12                     0.001643   \n",
       "\n",
       "                                   Relative_MiS_ha  \\\n",
       "plot_id  year regime                                 \n",
       "A03223-0 2023 SimOpt_extensive_0               0.0   \n",
       "              SimOpt_extensive_1               0.0   \n",
       "              SimOpt_extensive_10              0.0   \n",
       "              SimOpt_extensive_11              0.0   \n",
       "              SimOpt_extensive_12              0.0   \n",
       "\n",
       "                                   Relative_Sha_highclassdbh_Tot_Nor  \n",
       "plot_id  year regime                                                  \n",
       "A03223-0 2023 SimOpt_extensive_0                            0.000000  \n",
       "              SimOpt_extensive_1                            0.000514  \n",
       "              SimOpt_extensive_10                           0.000514  \n",
       "              SimOpt_extensive_11                           0.000514  \n",
       "              SimOpt_extensive_12                           0.000514  \n",
       "\n",
       "[5 rows x 66 columns]"
      ]
     },
     "execution_count": 13,
     "metadata": {},
     "output_type": "execute_result"
    }
   ],
   "source": [
    "mfo.data.head()"
   ]
  },
  {
   "cell_type": "code",
   "execution_count": 14,
   "metadata": {},
   "outputs": [
    {
     "data": {
      "text/html": [
       "<div>\n",
       "<style scoped>\n",
       "    .dataframe tbody tr th:only-of-type {\n",
       "        vertical-align: middle;\n",
       "    }\n",
       "\n",
       "    .dataframe tbody tr th {\n",
       "        vertical-align: top;\n",
       "    }\n",
       "\n",
       "    .dataframe thead th {\n",
       "        text-align: right;\n",
       "    }\n",
       "</style>\n",
       "<table border=\"1\" class=\"dataframe\">\n",
       "  <thead>\n",
       "    <tr style=\"text-align: right;\">\n",
       "      <th></th>\n",
       "      <th></th>\n",
       "      <th></th>\n",
       "      <th>Unnamed: 0</th>\n",
       "      <th>period</th>\n",
       "      <th>pulp_vol_m3</th>\n",
       "      <th>harv_cost_nok_m3</th>\n",
       "      <th>harv_cost_u150</th>\n",
       "      <th>harv_cost_u200</th>\n",
       "      <th>net_increment_m3</th>\n",
       "      <th>is_old</th>\n",
       "      <th>is_broadleave</th>\n",
       "      <th>MiS_classified_plot</th>\n",
       "      <th>...</th>\n",
       "      <th>finalFelling</th>\n",
       "      <th>is_CCF</th>\n",
       "      <th>is_nomanagement</th>\n",
       "      <th>is_vers_or_ste</th>\n",
       "      <th>FinaL_versk</th>\n",
       "      <th>FinaL_city</th>\n",
       "      <th>High_classdbh</th>\n",
       "      <th>Sha_highclassdbh_Tot_Nor</th>\n",
       "      <th>hel.delt.flate</th>\n",
       "      <th>fylnr</th>\n",
       "    </tr>\n",
       "    <tr>\n",
       "      <th>plot_id</th>\n",
       "      <th>year</th>\n",
       "      <th>regime</th>\n",
       "      <th></th>\n",
       "      <th></th>\n",
       "      <th></th>\n",
       "      <th></th>\n",
       "      <th></th>\n",
       "      <th></th>\n",
       "      <th></th>\n",
       "      <th></th>\n",
       "      <th></th>\n",
       "      <th></th>\n",
       "      <th></th>\n",
       "      <th></th>\n",
       "      <th></th>\n",
       "      <th></th>\n",
       "      <th></th>\n",
       "      <th></th>\n",
       "      <th></th>\n",
       "      <th></th>\n",
       "      <th></th>\n",
       "      <th></th>\n",
       "      <th></th>\n",
       "    </tr>\n",
       "  </thead>\n",
       "  <tbody>\n",
       "    <tr>\n",
       "      <th>A03223-0</th>\n",
       "      <th>2018</th>\n",
       "      <th>SimOpt_no_management_0</th>\n",
       "      <td>609</td>\n",
       "      <td>t0</td>\n",
       "      <td>0.0</td>\n",
       "      <td>0.0</td>\n",
       "      <td>0</td>\n",
       "      <td>0</td>\n",
       "      <td>0.0</td>\n",
       "      <td>0</td>\n",
       "      <td>0</td>\n",
       "      <td>0</td>\n",
       "      <td>...</td>\n",
       "      <td>False</td>\n",
       "      <td>1</td>\n",
       "      <td>0</td>\n",
       "      <td>1</td>\n",
       "      <td>0</td>\n",
       "      <td>0</td>\n",
       "      <td>1</td>\n",
       "      <td>178.909481</td>\n",
       "      <td>0</td>\n",
       "      <td>11</td>\n",
       "    </tr>\n",
       "    <tr>\n",
       "      <th>A03228-0</th>\n",
       "      <th>2018</th>\n",
       "      <th>SimOpt_no_management_0</th>\n",
       "      <td>706</td>\n",
       "      <td>t0</td>\n",
       "      <td>0.0</td>\n",
       "      <td>0.0</td>\n",
       "      <td>0</td>\n",
       "      <td>0</td>\n",
       "      <td>0.0</td>\n",
       "      <td>0</td>\n",
       "      <td>0</td>\n",
       "      <td>0</td>\n",
       "      <td>...</td>\n",
       "      <td>False</td>\n",
       "      <td>1</td>\n",
       "      <td>0</td>\n",
       "      <td>0</td>\n",
       "      <td>0</td>\n",
       "      <td>0</td>\n",
       "      <td>1</td>\n",
       "      <td>0.000000</td>\n",
       "      <td>0</td>\n",
       "      <td>11</td>\n",
       "    </tr>\n",
       "    <tr>\n",
       "      <th>A03229-0</th>\n",
       "      <th>2018</th>\n",
       "      <th>SimOpt_no_management_0</th>\n",
       "      <td>803</td>\n",
       "      <td>t0</td>\n",
       "      <td>0.0</td>\n",
       "      <td>0.0</td>\n",
       "      <td>0</td>\n",
       "      <td>0</td>\n",
       "      <td>0.0</td>\n",
       "      <td>0</td>\n",
       "      <td>0</td>\n",
       "      <td>0</td>\n",
       "      <td>...</td>\n",
       "      <td>False</td>\n",
       "      <td>1</td>\n",
       "      <td>0</td>\n",
       "      <td>1</td>\n",
       "      <td>0</td>\n",
       "      <td>0</td>\n",
       "      <td>0</td>\n",
       "      <td>0.000000</td>\n",
       "      <td>0</td>\n",
       "      <td>11</td>\n",
       "    </tr>\n",
       "    <tr>\n",
       "      <th>A03239-0</th>\n",
       "      <th>2018</th>\n",
       "      <th>SimOpt_no_management_0</th>\n",
       "      <td>852</td>\n",
       "      <td>t0</td>\n",
       "      <td>0.0</td>\n",
       "      <td>0.0</td>\n",
       "      <td>0</td>\n",
       "      <td>0</td>\n",
       "      <td>0.0</td>\n",
       "      <td>0</td>\n",
       "      <td>0</td>\n",
       "      <td>0</td>\n",
       "      <td>...</td>\n",
       "      <td>False</td>\n",
       "      <td>1</td>\n",
       "      <td>0</td>\n",
       "      <td>0</td>\n",
       "      <td>0</td>\n",
       "      <td>0</td>\n",
       "      <td>1</td>\n",
       "      <td>79.597144</td>\n",
       "      <td>0</td>\n",
       "      <td>11</td>\n",
       "    </tr>\n",
       "    <tr>\n",
       "      <th>A03256-0</th>\n",
       "      <th>2018</th>\n",
       "      <th>SimOpt_no_management_0</th>\n",
       "      <td>2085</td>\n",
       "      <td>t0</td>\n",
       "      <td>0.0</td>\n",
       "      <td>0.0</td>\n",
       "      <td>0</td>\n",
       "      <td>0</td>\n",
       "      <td>0.0</td>\n",
       "      <td>0</td>\n",
       "      <td>0</td>\n",
       "      <td>0</td>\n",
       "      <td>...</td>\n",
       "      <td>False</td>\n",
       "      <td>1</td>\n",
       "      <td>0</td>\n",
       "      <td>1</td>\n",
       "      <td>0</td>\n",
       "      <td>0</td>\n",
       "      <td>1</td>\n",
       "      <td>0.000000</td>\n",
       "      <td>0</td>\n",
       "      <td>42</td>\n",
       "    </tr>\n",
       "  </tbody>\n",
       "</table>\n",
       "<p>5 rows × 56 columns</p>\n",
       "</div>"
      ],
      "text/plain": [
       "                                      Unnamed: 0 period  pulp_vol_m3  \\\n",
       "plot_id  year regime                                                   \n",
       "A03223-0 2018 SimOpt_no_management_0         609     t0          0.0   \n",
       "A03228-0 2018 SimOpt_no_management_0         706     t0          0.0   \n",
       "A03229-0 2018 SimOpt_no_management_0         803     t0          0.0   \n",
       "A03239-0 2018 SimOpt_no_management_0         852     t0          0.0   \n",
       "A03256-0 2018 SimOpt_no_management_0        2085     t0          0.0   \n",
       "\n",
       "                                      harv_cost_nok_m3  harv_cost_u150  \\\n",
       "plot_id  year regime                                                     \n",
       "A03223-0 2018 SimOpt_no_management_0               0.0               0   \n",
       "A03228-0 2018 SimOpt_no_management_0               0.0               0   \n",
       "A03229-0 2018 SimOpt_no_management_0               0.0               0   \n",
       "A03239-0 2018 SimOpt_no_management_0               0.0               0   \n",
       "A03256-0 2018 SimOpt_no_management_0               0.0               0   \n",
       "\n",
       "                                      harv_cost_u200  net_increment_m3  \\\n",
       "plot_id  year regime                                                     \n",
       "A03223-0 2018 SimOpt_no_management_0               0               0.0   \n",
       "A03228-0 2018 SimOpt_no_management_0               0               0.0   \n",
       "A03229-0 2018 SimOpt_no_management_0               0               0.0   \n",
       "A03239-0 2018 SimOpt_no_management_0               0               0.0   \n",
       "A03256-0 2018 SimOpt_no_management_0               0               0.0   \n",
       "\n",
       "                                      is_old  is_broadleave  \\\n",
       "plot_id  year regime                                          \n",
       "A03223-0 2018 SimOpt_no_management_0       0              0   \n",
       "A03228-0 2018 SimOpt_no_management_0       0              0   \n",
       "A03229-0 2018 SimOpt_no_management_0       0              0   \n",
       "A03239-0 2018 SimOpt_no_management_0       0              0   \n",
       "A03256-0 2018 SimOpt_no_management_0       0              0   \n",
       "\n",
       "                                      MiS_classified_plot  ...  finalFelling  \\\n",
       "plot_id  year regime                                       ...                 \n",
       "A03223-0 2018 SimOpt_no_management_0                    0  ...         False   \n",
       "A03228-0 2018 SimOpt_no_management_0                    0  ...         False   \n",
       "A03229-0 2018 SimOpt_no_management_0                    0  ...         False   \n",
       "A03239-0 2018 SimOpt_no_management_0                    0  ...         False   \n",
       "A03256-0 2018 SimOpt_no_management_0                    0  ...         False   \n",
       "\n",
       "                                      is_CCF  is_nomanagement  is_vers_or_ste  \\\n",
       "plot_id  year regime                                                            \n",
       "A03223-0 2018 SimOpt_no_management_0       1                0               1   \n",
       "A03228-0 2018 SimOpt_no_management_0       1                0               0   \n",
       "A03229-0 2018 SimOpt_no_management_0       1                0               1   \n",
       "A03239-0 2018 SimOpt_no_management_0       1                0               0   \n",
       "A03256-0 2018 SimOpt_no_management_0       1                0               1   \n",
       "\n",
       "                                      FinaL_versk  FinaL_city  High_classdbh  \\\n",
       "plot_id  year regime                                                           \n",
       "A03223-0 2018 SimOpt_no_management_0            0           0              1   \n",
       "A03228-0 2018 SimOpt_no_management_0            0           0              1   \n",
       "A03229-0 2018 SimOpt_no_management_0            0           0              0   \n",
       "A03239-0 2018 SimOpt_no_management_0            0           0              1   \n",
       "A03256-0 2018 SimOpt_no_management_0            0           0              1   \n",
       "\n",
       "                                      Sha_highclassdbh_Tot_Nor  \\\n",
       "plot_id  year regime                                             \n",
       "A03223-0 2018 SimOpt_no_management_0                178.909481   \n",
       "A03228-0 2018 SimOpt_no_management_0                  0.000000   \n",
       "A03229-0 2018 SimOpt_no_management_0                  0.000000   \n",
       "A03239-0 2018 SimOpt_no_management_0                 79.597144   \n",
       "A03256-0 2018 SimOpt_no_management_0                  0.000000   \n",
       "\n",
       "                                      hel.delt.flate  fylnr  \n",
       "plot_id  year regime                                         \n",
       "A03223-0 2018 SimOpt_no_management_0               0     11  \n",
       "A03228-0 2018 SimOpt_no_management_0               0     11  \n",
       "A03229-0 2018 SimOpt_no_management_0               0     11  \n",
       "A03239-0 2018 SimOpt_no_management_0               0     11  \n",
       "A03256-0 2018 SimOpt_no_management_0               0     42  \n",
       "\n",
       "[5 rows x 56 columns]"
      ]
     },
     "execution_count": 14,
     "metadata": {},
     "output_type": "execute_result"
    }
   ],
   "source": [
    "mfo.initialData.head()"
   ]
  },
  {
   "cell_type": "markdown",
   "metadata": {},
   "source": [
    "## Definimos los objetivos en la optimización"
   ]
  },
  {
   "cell_type": "markdown",
   "metadata": {},
   "source": [
    "### Define the objectives"
   ]
  },
  {
   "cell_type": "markdown",
   "metadata": {},
   "source": [
    "Objective format: \n",
    "\n",
    "Unique_key : (Long human readable name,column name in data, max/min objective, year wise aggregation, stand wise aggregation [, target year])"
   ]
  },
  {
   "cell_type": "code",
   "execution_count": 18,
   "metadata": {},
   "outputs": [],
   "source": [
    "Wood_production =  {\n",
    "\n",
    "       \"harvest_netvalue_Mnok_min\": [\"Maximize netvalue (MAX Millions nok/m2) min\",\n",
    "                              \"harv_net_Mnok_TotNor\", \"max\",\"min\",\"sum\"], \n",
    "}"
   ]
  },
  {
   "cell_type": "markdown",
   "metadata": {},
   "source": [
    "Explicación de cada elemento: \n",
    "\n",
    "- \"harvest_netvalue_Mnok_min\" (Clave del diccionario)\n",
    "Este es el nombre del objetivo.\n",
    "referencia interna en tu código o herramienta de optimización.\n",
    "\n",
    "- \"Maximize the minimum net value (Millions NOK/m²)\" (Descripción)\n",
    "Es un texto descriptivo para que el usuario entienda el objetivo.\n",
    "Indica que estamos maximizando el menor valor posible del net value.\n",
    "\n",
    "- \"harv_net_Mnok_TotNor\" (Variable o indicador objetivo)\n",
    "Representa la variable de interés que quieres optimizar.\n",
    "\"harv_net_Mnok_TotNor\" suena como una variable que almacena el valor neto total de la cosecha (en millones de NOK) en toda Noruega.\n",
    "Debe estar definida en tu dataset.\n",
    "\n",
    "- \"max\" (Tipo de optimización)\n",
    "Significa que queremos maximizar un valor.\n",
    "En este caso, se aplicará sobre el valor mínimo encontrado (porque tenemos \"min\" después).\n",
    "Es decir, si tienes varios valores de net value, tomará el más bajo y tratará de hacerlo lo más alto posible.\n",
    "\n",
    "- \"min\" (Criterio de selección dentro de la optimización)\n",
    "Indica que dentro del conjunto de valores de harv_net_Mnok_TotNor, nos enfocamos en el mínimo.\n",
    "Luego, ese valor mínimo será maximizado (gracias a \"max\").\n",
    "Se busca mejorar el peor caso posible.\n",
    "\n",
    "- \"sum\" (Método de agregación de datos)\n",
    "Define cómo se combinan o agrupan los datos antes de optimizar.\n",
    "\"sum\" significa que los valores serán sumados antes de aplicar la optimización.\n",
    "\n",
    "Alternativas posibles:\n",
    "\n",
    "      \"average\" → Haría el promedio de los valores en lugar de sumarlos.\n",
    "      \"max\" → Solo tomaría el valor máximo disponible.\n",
    "      \"min\" → Solo tomaría el valor mínimo disponible (aunque en este caso ya lo usamos antes)."
   ]
  },
  {
   "cell_type": "code",
   "execution_count": 20,
   "metadata": {},
   "outputs": [],
   "source": [
    "\n",
    "Bionergy = {\n",
    "    \n",
    "     \"GROTIncreaseInHarvCost150\":[\"Maximize GROT in plots with harvest cost under 150 (maX)\",\n",
    "                                  \"GROT_kt_TotNor\", \"max\",\"min\",\"subsetSum\",\"harv_cost_u150\"],\n",
    "   \n",
    "}"
   ]
  },
  {
   "cell_type": "code",
   "execution_count": 21,
   "metadata": {},
   "outputs": [],
   "source": [
    "\n",
    "Biodiversity = {\n",
    "    ## non decreasing MIS classified area (non decreasing total deadwood, \n",
    "    ## big trees (> 40cm) in old stands, big trees, and old stand with mixtures of broadleaves and conifers)\n",
    "     #constraints\n",
    "    \"MiSIncrease\":[\"Not decreasing area of MiS classified plots (not decrease)\",\n",
    "                   \"Relative_MiS_ha\", \"max\",\"min\",\"sum\"], \n",
    "  \n",
    "}"
   ]
  },
  {
   "cell_type": "code",
   "execution_count": 22,
   "metadata": {},
   "outputs": [],
   "source": [
    "Climate_regulation = {\n",
    "    ## maximize CO2 in HWP   \n",
    "\n",
    "    \"CO2_HWP_kt\": [\"Co2 storage in wooden products (maximize kilotonnnes over all years)\",\n",
    "                   \"HWP_C02_TotNor\", \"max\",\"average\",\"sum\"],\n",
    "}"
   ]
  },
  {
   "cell_type": "code",
   "execution_count": 23,
   "metadata": {},
   "outputs": [],
   "source": [
    "objectives = {\n",
    "    **Wood_production,\n",
    "    **Bionergy,\n",
    "    **Biodiversity,\n",
    "    **Climate_regulation,\n",
    "}"
   ]
  },
  {
   "cell_type": "code",
   "execution_count": 24,
   "metadata": {},
   "outputs": [
    {
     "data": {
      "text/plain": [
       "4"
      ]
     },
     "execution_count": 24,
     "metadata": {},
     "output_type": "execute_result"
    }
   ],
   "source": [
    "len(objectives)"
   ]
  },
  {
   "cell_type": "code",
   "execution_count": 25,
   "metadata": {},
   "outputs": [
    {
     "data": {
      "text/plain": [
       "dict_keys(['harvest_netvalue_Mnok_min', 'GROTIncreaseInHarvCost150', 'MiSIncrease', 'CO2_HWP_kt'])"
      ]
     },
     "execution_count": 25,
     "metadata": {},
     "output_type": "execute_result"
    }
   ],
   "source": [
    "objectives.keys()"
   ]
  },
  {
   "cell_type": "code",
   "execution_count": 26,
   "metadata": {},
   "outputs": [
    {
     "data": {
      "text/plain": [
       "Index(['Unnamed: 0', 'period', 'pulp_vol_m3', 'harv_cost_nok_m3',\n",
       "       'harv_cost_u150', 'harv_cost_u200', 'net_increment_m3', 'is_old',\n",
       "       'is_broadleave', 'MiS_classified_plot', 'bilberry_cover_pr',\n",
       "       'GROT_kt_TotNor', 'vol_saw_m3', 'saw_CO2_t', 'vol_panels_m3',\n",
       "       'panels_CO2_t', 'albedo', 'is_steep_terrain', 'is_vernskog',\n",
       "       'is_city_forest', 'shan', 'class_dbh', 'ha2total', 'management',\n",
       "       'harv_net_Mnok_TotNor', 'harv_vol_Mm3_TotNor', 'saw_vol_Mm3_TotNor',\n",
       "       'pulp_vol_Mm3_TotNor', 'dead_vol_Mm3_TotNor', 'tsd_ha2total',\n",
       "       'CO2_forest_Mil_Kt_TotNor', 'CO2_forest_Mil_Kt_TotNor_no_albedo',\n",
       "       'saw_CO2_change_Kt_TotNor', 'saw_CO2_Kt_TotNor',\n",
       "       'panels_CO2_change_Kt_TotNor', 'HWP_C02_TotNor', 'Bilberry_ha_TotNor',\n",
       "       'MiS_ha', 'SawTimber_Mm3_year', 'pulp_Mm3_year', 'GROT_t', 'GROT_m3',\n",
       "       'GROT_Mm3', 'Residues_Mm3_year', 'harvest_demands_Mm3_year',\n",
       "       'regime.class', 'finalFelling', 'is_CCF', 'is_nomanagement',\n",
       "       'is_vers_or_ste', 'FinaL_versk', 'FinaL_city', 'High_classdbh',\n",
       "       'Sha_highclassdbh_Tot_Nor', 'hel.delt.flate', 'fylnr',\n",
       "       'Relative_albedo', 'Relative_shan', 'Relative_ha2total',\n",
       "       'Relative_dead_vol_Mm3_TotNor', 'Relative_tsd_ha2total',\n",
       "       'Relative_CO2_forest_Mil_Kt_TotNor',\n",
       "       'Relative_CO2_forest_Mil_Kt_TotNor_no_albedo',\n",
       "       'Relative_Bilberry_ha_TotNor', 'Relative_MiS_ha',\n",
       "       'Relative_Sha_highclassdbh_Tot_Nor'],\n",
       "      dtype='object')"
      ]
     },
     "execution_count": 26,
     "metadata": {},
     "output_type": "execute_result"
    }
   ],
   "source": [
    "mfo.data.columns"
   ]
  },
  {
   "cell_type": "code",
   "execution_count": 27,
   "metadata": {},
   "outputs": [
    {
     "data": {
      "text/plain": [
       "'Defining objectives'"
      ]
     },
     "metadata": {},
     "output_type": "display_data"
    },
    {
     "data": {
      "text/plain": [
       "'Aggregating stand wise'"
      ]
     },
     "metadata": {},
     "output_type": "display_data"
    },
    {
     "name": "stderr",
     "output_type": "stream",
     "text": [
      "100%|████████████████████████████████████████████████████████████████████████████████████| 4/4 [00:15<00:00,  3.86s/it]\n"
     ]
    },
    {
     "data": {
      "text/plain": [
       "'Aggregating year wise'"
      ]
     },
     "metadata": {},
     "output_type": "display_data"
    },
    {
     "name": "stdout",
     "output_type": "stream",
     "text": [
      "100%|████████████████████████████████████████████████████████████████████████████████████████████| 4/4 [00:00<?, ?it/s]\n"
     ]
    },
    {
     "data": {
      "text/plain": [
       "'Objectives added'"
      ]
     },
     "metadata": {},
     "output_type": "display_data"
    }
   ],
   "source": [
    "mfo.defineObjectives(objectiveTypes= objectives)"
   ]
  },
  {
   "cell_type": "markdown",
   "metadata": {},
   "source": [
    "## Calculate objective ranges"
   ]
  },
  {
   "cell_type": "code",
   "execution_count": 29,
   "metadata": {
    "scrolled": true
   },
   "outputs": [
    {
     "data": {
      "text/plain": [
       "'Calculating objective ranges'"
      ]
     },
     "metadata": {},
     "output_type": "display_data"
    },
    {
     "name": "stdout",
     "output_type": "stream",
     "text": [
      "  0%|                                                                                            | 0/4 [00:00<?, ?it/s]"
     ]
    },
    {
     "data": {
      "text/plain": [
       "'Optimizing for Maximize netvalue (MAX Millions nok/m2) min'"
      ]
     },
     "metadata": {},
     "output_type": "display_data"
    },
    {
     "data": {
      "text/plain": [
       "'Found an optimal solution in 0 seconds'"
      ]
     },
     "metadata": {},
     "output_type": "display_data"
    },
    {
     "data": {
      "text/plain": [
       "'Objective values are:'"
      ]
     },
     "metadata": {},
     "output_type": "display_data"
    },
    {
     "data": {
      "text/plain": [
       "'Maximize netvalue (MAX Millions nok/m2) min'"
      ]
     },
     "metadata": {},
     "output_type": "display_data"
    },
    {
     "data": {
      "text/plain": [
       "1880.532084226309"
      ]
     },
     "metadata": {},
     "output_type": "display_data"
    },
    {
     "data": {
      "text/plain": [
       "'Maximize GROT in plots with harvest cost under 150 (maX)'"
      ]
     },
     "metadata": {},
     "output_type": "display_data"
    },
    {
     "data": {
      "text/plain": [
       "0.0"
      ]
     },
     "metadata": {},
     "output_type": "display_data"
    },
    {
     "data": {
      "text/plain": [
       "'Not decreasing area of MiS classified plots (not decrease)'"
      ]
     },
     "metadata": {},
     "output_type": "display_data"
    },
    {
     "data": {
      "text/plain": [
       "0.0"
      ]
     },
     "metadata": {},
     "output_type": "display_data"
    },
    {
     "data": {
      "text/plain": [
       "'Co2 storage in wooden products (maximize kilotonnnes over all years)'"
      ]
     },
     "metadata": {},
     "output_type": "display_data"
    },
    {
     "data": {
      "text/plain": [
       "13522.294246034002"
      ]
     },
     "metadata": {},
     "output_type": "display_data"
    },
    {
     "name": "stdout",
     "output_type": "stream",
     "text": [
      " 25%|█████████████████████                                                               | 1/4 [00:00<00:01,  1.58it/s]"
     ]
    },
    {
     "data": {
      "text/plain": [
       "'Optimizing for Maximize GROT in plots with harvest cost under 150 (maX)'"
      ]
     },
     "metadata": {},
     "output_type": "display_data"
    },
    {
     "data": {
      "text/plain": [
       "'Found an optimal solution in 0 seconds'"
      ]
     },
     "metadata": {},
     "output_type": "display_data"
    },
    {
     "data": {
      "text/plain": [
       "'Objective values are:'"
      ]
     },
     "metadata": {},
     "output_type": "display_data"
    },
    {
     "data": {
      "text/plain": [
       "'Maximize netvalue (MAX Millions nok/m2) min'"
      ]
     },
     "metadata": {},
     "output_type": "display_data"
    },
    {
     "data": {
      "text/plain": [
       "-122.88596818371498"
      ]
     },
     "metadata": {},
     "output_type": "display_data"
    },
    {
     "data": {
      "text/plain": [
       "'Maximize GROT in plots with harvest cost under 150 (maX)'"
      ]
     },
     "metadata": {},
     "output_type": "display_data"
    },
    {
     "data": {
      "text/plain": [
       "975.3377085616382"
      ]
     },
     "metadata": {},
     "output_type": "display_data"
    },
    {
     "data": {
      "text/plain": [
       "'Not decreasing area of MiS classified plots (not decrease)'"
      ]
     },
     "metadata": {},
     "output_type": "display_data"
    },
    {
     "data": {
      "text/plain": [
       "0.0"
      ]
     },
     "metadata": {},
     "output_type": "display_data"
    },
    {
     "data": {
      "text/plain": [
       "'Co2 storage in wooden products (maximize kilotonnnes over all years)'"
      ]
     },
     "metadata": {},
     "output_type": "display_data"
    },
    {
     "data": {
      "text/plain": [
       "18077.665554129195"
      ]
     },
     "metadata": {},
     "output_type": "display_data"
    },
    {
     "name": "stdout",
     "output_type": "stream",
     "text": [
      " 50%|██████████████████████████████████████████                                          | 2/4 [00:00<00:00,  2.72it/s]"
     ]
    },
    {
     "data": {
      "text/plain": [
       "'Optimizing for Not decreasing area of MiS classified plots (not decrease)'"
      ]
     },
     "metadata": {},
     "output_type": "display_data"
    },
    {
     "data": {
      "text/plain": [
       "'Found an optimal solution in 0 seconds'"
      ]
     },
     "metadata": {},
     "output_type": "display_data"
    },
    {
     "data": {
      "text/plain": [
       "'Objective values are:'"
      ]
     },
     "metadata": {},
     "output_type": "display_data"
    },
    {
     "data": {
      "text/plain": [
       "'Maximize netvalue (MAX Millions nok/m2) min'"
      ]
     },
     "metadata": {},
     "output_type": "display_data"
    },
    {
     "data": {
      "text/plain": [
       "-337.7505748735633"
      ]
     },
     "metadata": {},
     "output_type": "display_data"
    },
    {
     "data": {
      "text/plain": [
       "'Maximize GROT in plots with harvest cost under 150 (maX)'"
      ]
     },
     "metadata": {},
     "output_type": "display_data"
    },
    {
     "data": {
      "text/plain": [
       "0.0"
      ]
     },
     "metadata": {},
     "output_type": "display_data"
    },
    {
     "data": {
      "text/plain": [
       "'Not decreasing area of MiS classified plots (not decrease)'"
      ]
     },
     "metadata": {},
     "output_type": "display_data"
    },
    {
     "data": {
      "text/plain": [
       "1.0932203331973596"
      ]
     },
     "metadata": {},
     "output_type": "display_data"
    },
    {
     "data": {
      "text/plain": [
       "'Co2 storage in wooden products (maximize kilotonnnes over all years)'"
      ]
     },
     "metadata": {},
     "output_type": "display_data"
    },
    {
     "data": {
      "text/plain": [
       "16001.620674730602"
      ]
     },
     "metadata": {},
     "output_type": "display_data"
    },
    {
     "name": "stdout",
     "output_type": "stream",
     "text": [
      " 75%|███████████████████████████████████████████████████████████████                     | 3/4 [00:01<00:00,  2.55it/s]"
     ]
    },
    {
     "data": {
      "text/plain": [
       "'Optimizing for Co2 storage in wooden products (maximize kilotonnnes over all years)'"
      ]
     },
     "metadata": {},
     "output_type": "display_data"
    },
    {
     "data": {
      "text/plain": [
       "'Found an optimal solution in 0 seconds'"
      ]
     },
     "metadata": {},
     "output_type": "display_data"
    },
    {
     "data": {
      "text/plain": [
       "'Objective values are:'"
      ]
     },
     "metadata": {},
     "output_type": "display_data"
    },
    {
     "data": {
      "text/plain": [
       "'Maximize netvalue (MAX Millions nok/m2) min'"
      ]
     },
     "metadata": {},
     "output_type": "display_data"
    },
    {
     "data": {
      "text/plain": [
       "-819.4677334566858"
      ]
     },
     "metadata": {},
     "output_type": "display_data"
    },
    {
     "data": {
      "text/plain": [
       "'Maximize GROT in plots with harvest cost under 150 (maX)'"
      ]
     },
     "metadata": {},
     "output_type": "display_data"
    },
    {
     "data": {
      "text/plain": [
       "0.0"
      ]
     },
     "metadata": {},
     "output_type": "display_data"
    },
    {
     "data": {
      "text/plain": [
       "'Not decreasing area of MiS classified plots (not decrease)'"
      ]
     },
     "metadata": {},
     "output_type": "display_data"
    },
    {
     "data": {
      "text/plain": [
       "0.0"
      ]
     },
     "metadata": {},
     "output_type": "display_data"
    },
    {
     "data": {
      "text/plain": [
       "'Co2 storage in wooden products (maximize kilotonnnes over all years)'"
      ]
     },
     "metadata": {},
     "output_type": "display_data"
    },
    {
     "data": {
      "text/plain": [
       "35631.78465872613"
      ]
     },
     "metadata": {},
     "output_type": "display_data"
    },
    {
     "name": "stdout",
     "output_type": "stream",
     "text": [
      "100%|████████████████████████████████████████████████████████████████████████████████████| 4/4 [00:01<00:00,  2.84it/s]\n"
     ]
    }
   ],
   "source": [
    "mfo.calculateObjectiveRanges()"
   ]
  },
  {
   "cell_type": "code",
   "execution_count": 30,
   "metadata": {},
   "outputs": [
    {
     "data": {
      "text/plain": [
       "{'harvest_netvalue_Mnok_min': (-819.4677334566858, 1880.532084226309),\n",
       " 'GROTIncreaseInHarvCost150': (0.0, 975.3377085616382),\n",
       " 'MiSIncrease': (0.0, 1.0932203331973596),\n",
       " 'CO2_HWP_kt': (13522.294246034002, 35631.78465872613)}"
      ]
     },
     "execution_count": 30,
     "metadata": {},
     "output_type": "execute_result"
    }
   ],
   "source": [
    "mfo.objectiveRanges"
   ]
  },
  {
   "cell_type": "markdown",
   "metadata": {},
   "source": [
    "## Show GUI"
   ]
  },
  {
   "cell_type": "code",
   "execution_count": 37,
   "metadata": {},
   "outputs": [
    {
     "data": {
      "text/html": [
       "<style>\n",
       "            .widget-label { min-width: 60% !important; }\n",
       "        </style>"
      ],
      "text/plain": [
       "<IPython.core.display.HTML object>"
      ]
     },
     "metadata": {},
     "output_type": "display_data"
    },
    {
     "data": {
      "text/html": [
       "<h2>Epsilon constraint values</h2>"
      ],
      "text/plain": [
       "<IPython.core.display.HTML object>"
      ]
     },
     "metadata": {},
     "output_type": "display_data"
    },
    {
     "data": {
      "application/vnd.jupyter.widget-view+json": {
       "model_id": "8482cbb834464b7ab890c8c317c46486",
       "version_major": 2,
       "version_minor": 0
      },
      "text/plain": [
       "interactive(children=(FloatSlider(value=-819.4677334566858, description='Maximize netvalue (MAX Millions nok/m…"
      ]
     },
     "metadata": {},
     "output_type": "display_data"
    },
    {
     "data": {
      "text/html": [
       "<h2>Reference point</h2>"
      ],
      "text/plain": [
       "<IPython.core.display.HTML object>"
      ]
     },
     "metadata": {},
     "output_type": "display_data"
    },
    {
     "data": {
      "application/vnd.jupyter.widget-view+json": {
       "model_id": "4b087772e66c418699050abe7338ee20",
       "version_major": 2,
       "version_minor": 0
      },
      "text/plain": [
       "interactive(children=(FloatSlider(value=530.5321753848117, description='Maximize netvalue (MAX Millions nok/m2…"
      ]
     },
     "metadata": {},
     "output_type": "display_data"
    },
    {
     "data": {
      "text/html": [
       "<h2>Enabled constraints</h2>"
      ],
      "text/plain": [
       "<IPython.core.display.HTML object>"
      ]
     },
     "metadata": {},
     "output_type": "display_data"
    },
    {
     "data": {
      "application/vnd.jupyter.widget-view+json": {
       "model_id": "640270b7ab3b487d9ee016055b5e5c4a",
       "version_major": 2,
       "version_minor": 0
      },
      "text/plain": [
       "interactive(children=(Button(description='Change constraints', style=ButtonStyle()), Output()), _dom_classes=(…"
      ]
     },
     "metadata": {},
     "output_type": "display_data"
    },
    {
     "data": {
      "application/vnd.jupyter.widget-view+json": {
       "model_id": "14eca0003f82442594e9e2ce64806287",
       "version_major": 2,
       "version_minor": 0
      },
      "text/plain": [
       "Button(description='Print solution', style=ButtonStyle())"
      ]
     },
     "metadata": {},
     "output_type": "display_data"
    }
   ],
   "source": [
    "mfo.showGUI()"
   ]
  },
  {
   "cell_type": "markdown",
   "metadata": {},
   "source": [
    "## Calculate some additional metrics of the latest calculated solution"
   ]
  },
  {
   "cell_type": "markdown",
   "metadata": {},
   "source": [
    "**TODO** print csv etc"
   ]
  },
  {
   "cell_type": "code",
   "execution_count": 50,
   "metadata": {},
   "outputs": [],
   "source": [
    "import pandas as pd"
   ]
  },
  {
   "cell_type": "code",
   "execution_count": 51,
   "metadata": {},
   "outputs": [],
   "source": [
    "import os\n",
    "\n",
    "try:\n",
    "    os.mkdir(\"results\")\n",
    "except FileExistsError:\n",
    "    pass\n",
    "b = []\n",
    "c = []\n",
    "for key in mfo.regimesDecision.keys():\n",
    "    if mfo.regimesDecision[key].solution_value() > 0:\n",
    "        b = b+ [(key[0],x*5+2018, key[1]) for x in range(0,22)]\n",
    "        c = c+ [(key[0],key[1],mfo.regimesDecision[key].solution_value())]\n",
    "data2b = mfo.data.iloc[mfo.data.index.isin(b)]\n",
    "data2b.to_csv(\"./results/solution_alldata_NFS_RCP45.csv\")\n",
    "c1 = pd.DataFrame(c)\n",
    "c1.to_csv(\"./results/solution_NFS_RCP45.csv\")"
   ]
  },
  {
   "cell_type": "code",
   "execution_count": null,
   "metadata": {},
   "outputs": [],
   "source": []
  }
 ],
 "metadata": {
  "kernelspec": {
   "display_name": "Python 3 (ipykernel)",
   "language": "python",
   "name": "python3"
  },
  "language_info": {
   "codemirror_mode": {
    "name": "ipython",
    "version": 3
   },
   "file_extension": ".py",
   "mimetype": "text/x-python",
   "name": "python",
   "nbconvert_exporter": "python",
   "pygments_lexer": "ipython3",
   "version": "3.12.3"
  }
 },
 "nbformat": 4,
 "nbformat_minor": 4
}
