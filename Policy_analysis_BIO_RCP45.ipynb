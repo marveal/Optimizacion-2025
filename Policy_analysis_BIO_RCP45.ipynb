{
 "cells": [
  {
   "cell_type": "markdown",
   "metadata": {},
   "source": [
    "# BIO optimization notebook"
   ]
  },
  {
   "cell_type": "markdown",
   "metadata": {},
   "source": [
    "En este primer ejemplo vamos a optimizar las parcelas del inventario siguiendo los siguientes objetivos:\n",
    "\n",
    "- Maximizar el area de MiS (Biodiversidad)\n",
    "- Maximizar la madera muerta (Biodiversidad)\n",
    "- Maximizar la cobertura de arándanos (Biodiversidad)\n",
    "  \n",
    "Bajo las siguientes restriciones:\n",
    "\n",
    "- Aumento del área MIS (Biodiversidad)\n",
    "- Aumento de la madera muerta (Biodiversidad)\n",
    "- Aumento de la cobertura de arándanos (Biodiversidad)\n",
    "- Disminución de la cosecha en pendientes\n",
    "- Que no haya una redución del indice de Shannon\n"
   ]
  },
  {
   "cell_type": "markdown",
   "metadata": {},
   "source": [
    "## Read the data"
   ]
  },
  {
   "cell_type": "code",
   "execution_count": 3,
   "metadata": {},
   "outputs": [],
   "source": [
    "import multiFunctionalOptimization as MFO"
   ]
  },
  {
   "cell_type": "code",
   "execution_count": 5,
   "metadata": {},
   "outputs": [
    {
     "data": {
      "text/plain": [
       "<module 'multiFunctionalOptimization' from 'C:\\\\Users\\\\mver\\\\Desktop\\\\Class palencia\\\\Optimization analysis\\\\multiFunctionalOptimization.py'>"
      ]
     },
     "execution_count": 5,
     "metadata": {},
     "output_type": "execute_result"
    }
   ],
   "source": [
    "from importlib import reload\n",
    "reload(MFO)"
   ]
  },
  {
   "cell_type": "code",
   "execution_count": 7,
   "metadata": {},
   "outputs": [
    {
     "data": {
      "text/plain": [
       "'Using CLP'"
      ]
     },
     "metadata": {},
     "output_type": "display_data"
    }
   ],
   "source": [
    "mfo = MFO.MultiFunctionalOptimization()"
   ]
  },
  {
   "cell_type": "code",
   "execution_count": 9,
   "metadata": {},
   "outputs": [],
   "source": [
    "filename = \"data_policy_analysis_RCP45.csv\""
   ]
  },
  {
   "cell_type": "code",
   "execution_count": 11,
   "metadata": {},
   "outputs": [
    {
     "name": "stdout",
     "output_type": "stream",
     "text": [
      "CPU times: total: 938 ms\n",
      "Wall time: 960 ms\n"
     ]
    }
   ],
   "source": [
    "%%time\n",
    "mfo.readData(filename,standsEnu = \"plot_id\",delimeter = \",\",areaCol = \"tsd_ha2total\")"
   ]
  },
  {
   "cell_type": "code",
   "execution_count": 12,
   "metadata": {},
   "outputs": [],
   "source": [
    "mfo.finalizeData(initialTime = 2018)"
   ]
  },
  {
   "cell_type": "code",
   "execution_count": 15,
   "metadata": {},
   "outputs": [
    {
     "data": {
      "text/plain": [
       "Index(['Unnamed: 0', 'period', 'pulp_vol_m3', 'harv_cost_nok_m3',\n",
       "       'harv_cost_u150', 'harv_cost_u200', 'net_increment_m3', 'is_old',\n",
       "       'is_broadleave', 'MiS_classified_plot', 'bilberry_cover_pr',\n",
       "       'GROT_kt_TotNor', 'vol_saw_m3', 'saw_CO2_t', 'vol_panels_m3',\n",
       "       'panels_CO2_t', 'albedo', 'is_steep_terrain', 'is_vernskog',\n",
       "       'is_city_forest', 'shan', 'class_dbh', 'ha2total', 'management',\n",
       "       'harv_net_Mnok_TotNor', 'harv_vol_Mm3_TotNor', 'saw_vol_Mm3_TotNor',\n",
       "       'pulp_vol_Mm3_TotNor', 'dead_vol_Mm3_TotNor', 'tsd_ha2total',\n",
       "       'CO2_forest_Mil_Kt_TotNor', 'CO2_forest_Mil_Kt_TotNor_no_albedo',\n",
       "       'saw_CO2_change_Kt_TotNor', 'saw_CO2_Kt_TotNor',\n",
       "       'panels_CO2_change_Kt_TotNor', 'HWP_C02_TotNor', 'Bilberry_ha_TotNor',\n",
       "       'MiS_ha', 'SawTimber_Mm3_year', 'pulp_Mm3_year', 'GROT_t', 'GROT_m3',\n",
       "       'GROT_Mm3', 'Residues_Mm3_year', 'harvest_demands_Mm3_year',\n",
       "       'regime.class', 'finalFelling', 'is_CCF', 'is_nomanagement',\n",
       "       'is_vers_or_ste', 'FinaL_versk', 'FinaL_city', 'High_classdbh',\n",
       "       'Sha_highclassdbh_Tot_Nor', 'hel.delt.flate', 'fylnr',\n",
       "       'Relative_albedo', 'Relative_shan', 'Relative_ha2total',\n",
       "       'Relative_dead_vol_Mm3_TotNor', 'Relative_tsd_ha2total',\n",
       "       'Relative_CO2_forest_Mil_Kt_TotNor',\n",
       "       'Relative_CO2_forest_Mil_Kt_TotNor_no_albedo',\n",
       "       'Relative_Bilberry_ha_TotNor', 'Relative_MiS_ha',\n",
       "       'Relative_Sha_highclassdbh_Tot_Nor'],\n",
       "      dtype='object')"
      ]
     },
     "execution_count": 15,
     "metadata": {},
     "output_type": "execute_result"
    }
   ],
   "source": [
    "mfo.data.columns"
   ]
  },
  {
   "cell_type": "code",
   "execution_count": 17,
   "metadata": {},
   "outputs": [
    {
     "data": {
      "text/html": [
       "<div>\n",
       "<style scoped>\n",
       "    .dataframe tbody tr th:only-of-type {\n",
       "        vertical-align: middle;\n",
       "    }\n",
       "\n",
       "    .dataframe tbody tr th {\n",
       "        vertical-align: top;\n",
       "    }\n",
       "\n",
       "    .dataframe thead th {\n",
       "        text-align: right;\n",
       "    }\n",
       "</style>\n",
       "<table border=\"1\" class=\"dataframe\">\n",
       "  <thead>\n",
       "    <tr style=\"text-align: right;\">\n",
       "      <th></th>\n",
       "      <th></th>\n",
       "      <th></th>\n",
       "      <th>Unnamed: 0</th>\n",
       "      <th>period</th>\n",
       "      <th>pulp_vol_m3</th>\n",
       "      <th>harv_cost_nok_m3</th>\n",
       "      <th>harv_cost_u150</th>\n",
       "      <th>harv_cost_u200</th>\n",
       "      <th>net_increment_m3</th>\n",
       "      <th>is_old</th>\n",
       "      <th>is_broadleave</th>\n",
       "      <th>MiS_classified_plot</th>\n",
       "      <th>...</th>\n",
       "      <th>Relative_albedo</th>\n",
       "      <th>Relative_shan</th>\n",
       "      <th>Relative_ha2total</th>\n",
       "      <th>Relative_dead_vol_Mm3_TotNor</th>\n",
       "      <th>Relative_tsd_ha2total</th>\n",
       "      <th>Relative_CO2_forest_Mil_Kt_TotNor</th>\n",
       "      <th>Relative_CO2_forest_Mil_Kt_TotNor_no_albedo</th>\n",
       "      <th>Relative_Bilberry_ha_TotNor</th>\n",
       "      <th>Relative_MiS_ha</th>\n",
       "      <th>Relative_Sha_highclassdbh_Tot_Nor</th>\n",
       "    </tr>\n",
       "    <tr>\n",
       "      <th>plot_id</th>\n",
       "      <th>year</th>\n",
       "      <th>regime</th>\n",
       "      <th></th>\n",
       "      <th></th>\n",
       "      <th></th>\n",
       "      <th></th>\n",
       "      <th></th>\n",
       "      <th></th>\n",
       "      <th></th>\n",
       "      <th></th>\n",
       "      <th></th>\n",
       "      <th></th>\n",
       "      <th></th>\n",
       "      <th></th>\n",
       "      <th></th>\n",
       "      <th></th>\n",
       "      <th></th>\n",
       "      <th></th>\n",
       "      <th></th>\n",
       "      <th></th>\n",
       "      <th></th>\n",
       "      <th></th>\n",
       "      <th></th>\n",
       "    </tr>\n",
       "  </thead>\n",
       "  <tbody>\n",
       "    <tr>\n",
       "      <th rowspan=\"5\" valign=\"top\">A03223-0</th>\n",
       "      <th rowspan=\"5\" valign=\"top\">2023</th>\n",
       "      <th>SimOpt_extensive_0</th>\n",
       "      <td>1</td>\n",
       "      <td>t1</td>\n",
       "      <td>147192.671416</td>\n",
       "      <td>588.723595</td>\n",
       "      <td>0</td>\n",
       "      <td>0</td>\n",
       "      <td>2456.848912</td>\n",
       "      <td>0</td>\n",
       "      <td>0</td>\n",
       "      <td>0</td>\n",
       "      <td>...</td>\n",
       "      <td>0.000972</td>\n",
       "      <td>0.000000</td>\n",
       "      <td>0.001038</td>\n",
       "      <td>0.000741</td>\n",
       "      <td>0.001038</td>\n",
       "      <td>-0.044775</td>\n",
       "      <td>-0.046011</td>\n",
       "      <td>0.000958</td>\n",
       "      <td>0.0</td>\n",
       "      <td>0.000000</td>\n",
       "    </tr>\n",
       "    <tr>\n",
       "      <th>SimOpt_extensive_1</th>\n",
       "      <td>17</td>\n",
       "      <td>t1</td>\n",
       "      <td>0.000000</td>\n",
       "      <td>0.000000</td>\n",
       "      <td>0</td>\n",
       "      <td>0</td>\n",
       "      <td>4872.110349</td>\n",
       "      <td>0</td>\n",
       "      <td>0</td>\n",
       "      <td>0</td>\n",
       "      <td>...</td>\n",
       "      <td>0.000888</td>\n",
       "      <td>0.000426</td>\n",
       "      <td>0.001038</td>\n",
       "      <td>0.000741</td>\n",
       "      <td>0.001038</td>\n",
       "      <td>0.002309</td>\n",
       "      <td>0.002530</td>\n",
       "      <td>0.001643</td>\n",
       "      <td>0.0</td>\n",
       "      <td>0.000514</td>\n",
       "    </tr>\n",
       "    <tr>\n",
       "      <th>SimOpt_extensive_10</th>\n",
       "      <td>33</td>\n",
       "      <td>t1</td>\n",
       "      <td>0.000000</td>\n",
       "      <td>0.000000</td>\n",
       "      <td>0</td>\n",
       "      <td>0</td>\n",
       "      <td>4872.110349</td>\n",
       "      <td>0</td>\n",
       "      <td>0</td>\n",
       "      <td>0</td>\n",
       "      <td>...</td>\n",
       "      <td>0.000888</td>\n",
       "      <td>0.000426</td>\n",
       "      <td>0.001038</td>\n",
       "      <td>0.000741</td>\n",
       "      <td>0.001038</td>\n",
       "      <td>0.002309</td>\n",
       "      <td>0.002530</td>\n",
       "      <td>0.001643</td>\n",
       "      <td>0.0</td>\n",
       "      <td>0.000514</td>\n",
       "    </tr>\n",
       "    <tr>\n",
       "      <th>SimOpt_extensive_11</th>\n",
       "      <td>49</td>\n",
       "      <td>t1</td>\n",
       "      <td>0.000000</td>\n",
       "      <td>0.000000</td>\n",
       "      <td>0</td>\n",
       "      <td>0</td>\n",
       "      <td>4872.110349</td>\n",
       "      <td>0</td>\n",
       "      <td>0</td>\n",
       "      <td>0</td>\n",
       "      <td>...</td>\n",
       "      <td>0.000888</td>\n",
       "      <td>0.000426</td>\n",
       "      <td>0.001038</td>\n",
       "      <td>0.000741</td>\n",
       "      <td>0.001038</td>\n",
       "      <td>0.002309</td>\n",
       "      <td>0.002530</td>\n",
       "      <td>0.001643</td>\n",
       "      <td>0.0</td>\n",
       "      <td>0.000514</td>\n",
       "    </tr>\n",
       "    <tr>\n",
       "      <th>SimOpt_extensive_12</th>\n",
       "      <td>65</td>\n",
       "      <td>t1</td>\n",
       "      <td>0.000000</td>\n",
       "      <td>0.000000</td>\n",
       "      <td>0</td>\n",
       "      <td>0</td>\n",
       "      <td>4872.110349</td>\n",
       "      <td>0</td>\n",
       "      <td>0</td>\n",
       "      <td>0</td>\n",
       "      <td>...</td>\n",
       "      <td>0.000888</td>\n",
       "      <td>0.000426</td>\n",
       "      <td>0.001038</td>\n",
       "      <td>0.000741</td>\n",
       "      <td>0.001038</td>\n",
       "      <td>0.002309</td>\n",
       "      <td>0.002530</td>\n",
       "      <td>0.001643</td>\n",
       "      <td>0.0</td>\n",
       "      <td>0.000514</td>\n",
       "    </tr>\n",
       "  </tbody>\n",
       "</table>\n",
       "<p>5 rows × 66 columns</p>\n",
       "</div>"
      ],
      "text/plain": [
       "                                   Unnamed: 0 period    pulp_vol_m3  \\\n",
       "plot_id  year regime                                                  \n",
       "A03223-0 2023 SimOpt_extensive_0            1     t1  147192.671416   \n",
       "              SimOpt_extensive_1           17     t1       0.000000   \n",
       "              SimOpt_extensive_10          33     t1       0.000000   \n",
       "              SimOpt_extensive_11          49     t1       0.000000   \n",
       "              SimOpt_extensive_12          65     t1       0.000000   \n",
       "\n",
       "                                   harv_cost_nok_m3  harv_cost_u150  \\\n",
       "plot_id  year regime                                                  \n",
       "A03223-0 2023 SimOpt_extensive_0         588.723595               0   \n",
       "              SimOpt_extensive_1           0.000000               0   \n",
       "              SimOpt_extensive_10          0.000000               0   \n",
       "              SimOpt_extensive_11          0.000000               0   \n",
       "              SimOpt_extensive_12          0.000000               0   \n",
       "\n",
       "                                   harv_cost_u200  net_increment_m3  is_old  \\\n",
       "plot_id  year regime                                                          \n",
       "A03223-0 2023 SimOpt_extensive_0                0       2456.848912       0   \n",
       "              SimOpt_extensive_1                0       4872.110349       0   \n",
       "              SimOpt_extensive_10               0       4872.110349       0   \n",
       "              SimOpt_extensive_11               0       4872.110349       0   \n",
       "              SimOpt_extensive_12               0       4872.110349       0   \n",
       "\n",
       "                                   is_broadleave  MiS_classified_plot  ...  \\\n",
       "plot_id  year regime                                                   ...   \n",
       "A03223-0 2023 SimOpt_extensive_0               0                    0  ...   \n",
       "              SimOpt_extensive_1               0                    0  ...   \n",
       "              SimOpt_extensive_10              0                    0  ...   \n",
       "              SimOpt_extensive_11              0                    0  ...   \n",
       "              SimOpt_extensive_12              0                    0  ...   \n",
       "\n",
       "                                   Relative_albedo  Relative_shan  \\\n",
       "plot_id  year regime                                                \n",
       "A03223-0 2023 SimOpt_extensive_0          0.000972       0.000000   \n",
       "              SimOpt_extensive_1          0.000888       0.000426   \n",
       "              SimOpt_extensive_10         0.000888       0.000426   \n",
       "              SimOpt_extensive_11         0.000888       0.000426   \n",
       "              SimOpt_extensive_12         0.000888       0.000426   \n",
       "\n",
       "                                   Relative_ha2total  \\\n",
       "plot_id  year regime                                   \n",
       "A03223-0 2023 SimOpt_extensive_0            0.001038   \n",
       "              SimOpt_extensive_1            0.001038   \n",
       "              SimOpt_extensive_10           0.001038   \n",
       "              SimOpt_extensive_11           0.001038   \n",
       "              SimOpt_extensive_12           0.001038   \n",
       "\n",
       "                                   Relative_dead_vol_Mm3_TotNor  \\\n",
       "plot_id  year regime                                              \n",
       "A03223-0 2023 SimOpt_extensive_0                       0.000741   \n",
       "              SimOpt_extensive_1                       0.000741   \n",
       "              SimOpt_extensive_10                      0.000741   \n",
       "              SimOpt_extensive_11                      0.000741   \n",
       "              SimOpt_extensive_12                      0.000741   \n",
       "\n",
       "                                   Relative_tsd_ha2total  \\\n",
       "plot_id  year regime                                       \n",
       "A03223-0 2023 SimOpt_extensive_0                0.001038   \n",
       "              SimOpt_extensive_1                0.001038   \n",
       "              SimOpt_extensive_10               0.001038   \n",
       "              SimOpt_extensive_11               0.001038   \n",
       "              SimOpt_extensive_12               0.001038   \n",
       "\n",
       "                                   Relative_CO2_forest_Mil_Kt_TotNor  \\\n",
       "plot_id  year regime                                                   \n",
       "A03223-0 2023 SimOpt_extensive_0                           -0.044775   \n",
       "              SimOpt_extensive_1                            0.002309   \n",
       "              SimOpt_extensive_10                           0.002309   \n",
       "              SimOpt_extensive_11                           0.002309   \n",
       "              SimOpt_extensive_12                           0.002309   \n",
       "\n",
       "                                   Relative_CO2_forest_Mil_Kt_TotNor_no_albedo  \\\n",
       "plot_id  year regime                                                             \n",
       "A03223-0 2023 SimOpt_extensive_0                                     -0.046011   \n",
       "              SimOpt_extensive_1                                      0.002530   \n",
       "              SimOpt_extensive_10                                     0.002530   \n",
       "              SimOpt_extensive_11                                     0.002530   \n",
       "              SimOpt_extensive_12                                     0.002530   \n",
       "\n",
       "                                   Relative_Bilberry_ha_TotNor  \\\n",
       "plot_id  year regime                                             \n",
       "A03223-0 2023 SimOpt_extensive_0                      0.000958   \n",
       "              SimOpt_extensive_1                      0.001643   \n",
       "              SimOpt_extensive_10                     0.001643   \n",
       "              SimOpt_extensive_11                     0.001643   \n",
       "              SimOpt_extensive_12                     0.001643   \n",
       "\n",
       "                                   Relative_MiS_ha  \\\n",
       "plot_id  year regime                                 \n",
       "A03223-0 2023 SimOpt_extensive_0               0.0   \n",
       "              SimOpt_extensive_1               0.0   \n",
       "              SimOpt_extensive_10              0.0   \n",
       "              SimOpt_extensive_11              0.0   \n",
       "              SimOpt_extensive_12              0.0   \n",
       "\n",
       "                                   Relative_Sha_highclassdbh_Tot_Nor  \n",
       "plot_id  year regime                                                  \n",
       "A03223-0 2023 SimOpt_extensive_0                            0.000000  \n",
       "              SimOpt_extensive_1                            0.000514  \n",
       "              SimOpt_extensive_10                           0.000514  \n",
       "              SimOpt_extensive_11                           0.000514  \n",
       "              SimOpt_extensive_12                           0.000514  \n",
       "\n",
       "[5 rows x 66 columns]"
      ]
     },
     "execution_count": 17,
     "metadata": {},
     "output_type": "execute_result"
    }
   ],
   "source": [
    "mfo.data.head()"
   ]
  },
  {
   "cell_type": "code",
   "execution_count": 19,
   "metadata": {},
   "outputs": [
    {
     "data": {
      "text/html": [
       "<div>\n",
       "<style scoped>\n",
       "    .dataframe tbody tr th:only-of-type {\n",
       "        vertical-align: middle;\n",
       "    }\n",
       "\n",
       "    .dataframe tbody tr th {\n",
       "        vertical-align: top;\n",
       "    }\n",
       "\n",
       "    .dataframe thead th {\n",
       "        text-align: right;\n",
       "    }\n",
       "</style>\n",
       "<table border=\"1\" class=\"dataframe\">\n",
       "  <thead>\n",
       "    <tr style=\"text-align: right;\">\n",
       "      <th></th>\n",
       "      <th></th>\n",
       "      <th></th>\n",
       "      <th>Unnamed: 0</th>\n",
       "      <th>period</th>\n",
       "      <th>pulp_vol_m3</th>\n",
       "      <th>harv_cost_nok_m3</th>\n",
       "      <th>harv_cost_u150</th>\n",
       "      <th>harv_cost_u200</th>\n",
       "      <th>net_increment_m3</th>\n",
       "      <th>is_old</th>\n",
       "      <th>is_broadleave</th>\n",
       "      <th>MiS_classified_plot</th>\n",
       "      <th>...</th>\n",
       "      <th>finalFelling</th>\n",
       "      <th>is_CCF</th>\n",
       "      <th>is_nomanagement</th>\n",
       "      <th>is_vers_or_ste</th>\n",
       "      <th>FinaL_versk</th>\n",
       "      <th>FinaL_city</th>\n",
       "      <th>High_classdbh</th>\n",
       "      <th>Sha_highclassdbh_Tot_Nor</th>\n",
       "      <th>hel.delt.flate</th>\n",
       "      <th>fylnr</th>\n",
       "    </tr>\n",
       "    <tr>\n",
       "      <th>plot_id</th>\n",
       "      <th>year</th>\n",
       "      <th>regime</th>\n",
       "      <th></th>\n",
       "      <th></th>\n",
       "      <th></th>\n",
       "      <th></th>\n",
       "      <th></th>\n",
       "      <th></th>\n",
       "      <th></th>\n",
       "      <th></th>\n",
       "      <th></th>\n",
       "      <th></th>\n",
       "      <th></th>\n",
       "      <th></th>\n",
       "      <th></th>\n",
       "      <th></th>\n",
       "      <th></th>\n",
       "      <th></th>\n",
       "      <th></th>\n",
       "      <th></th>\n",
       "      <th></th>\n",
       "      <th></th>\n",
       "      <th></th>\n",
       "    </tr>\n",
       "  </thead>\n",
       "  <tbody>\n",
       "    <tr>\n",
       "      <th>A03223-0</th>\n",
       "      <th>2018</th>\n",
       "      <th>SimOpt_no_management_0</th>\n",
       "      <td>609</td>\n",
       "      <td>t0</td>\n",
       "      <td>0.0</td>\n",
       "      <td>0.0</td>\n",
       "      <td>0</td>\n",
       "      <td>0</td>\n",
       "      <td>0.0</td>\n",
       "      <td>0</td>\n",
       "      <td>0</td>\n",
       "      <td>0</td>\n",
       "      <td>...</td>\n",
       "      <td>False</td>\n",
       "      <td>1</td>\n",
       "      <td>0</td>\n",
       "      <td>1</td>\n",
       "      <td>0</td>\n",
       "      <td>0</td>\n",
       "      <td>1</td>\n",
       "      <td>178.909481</td>\n",
       "      <td>0</td>\n",
       "      <td>11</td>\n",
       "    </tr>\n",
       "    <tr>\n",
       "      <th>A03228-0</th>\n",
       "      <th>2018</th>\n",
       "      <th>SimOpt_no_management_0</th>\n",
       "      <td>706</td>\n",
       "      <td>t0</td>\n",
       "      <td>0.0</td>\n",
       "      <td>0.0</td>\n",
       "      <td>0</td>\n",
       "      <td>0</td>\n",
       "      <td>0.0</td>\n",
       "      <td>0</td>\n",
       "      <td>0</td>\n",
       "      <td>0</td>\n",
       "      <td>...</td>\n",
       "      <td>False</td>\n",
       "      <td>1</td>\n",
       "      <td>0</td>\n",
       "      <td>0</td>\n",
       "      <td>0</td>\n",
       "      <td>0</td>\n",
       "      <td>1</td>\n",
       "      <td>0.000000</td>\n",
       "      <td>0</td>\n",
       "      <td>11</td>\n",
       "    </tr>\n",
       "    <tr>\n",
       "      <th>A03229-0</th>\n",
       "      <th>2018</th>\n",
       "      <th>SimOpt_no_management_0</th>\n",
       "      <td>803</td>\n",
       "      <td>t0</td>\n",
       "      <td>0.0</td>\n",
       "      <td>0.0</td>\n",
       "      <td>0</td>\n",
       "      <td>0</td>\n",
       "      <td>0.0</td>\n",
       "      <td>0</td>\n",
       "      <td>0</td>\n",
       "      <td>0</td>\n",
       "      <td>...</td>\n",
       "      <td>False</td>\n",
       "      <td>1</td>\n",
       "      <td>0</td>\n",
       "      <td>1</td>\n",
       "      <td>0</td>\n",
       "      <td>0</td>\n",
       "      <td>0</td>\n",
       "      <td>0.000000</td>\n",
       "      <td>0</td>\n",
       "      <td>11</td>\n",
       "    </tr>\n",
       "    <tr>\n",
       "      <th>A03239-0</th>\n",
       "      <th>2018</th>\n",
       "      <th>SimOpt_no_management_0</th>\n",
       "      <td>852</td>\n",
       "      <td>t0</td>\n",
       "      <td>0.0</td>\n",
       "      <td>0.0</td>\n",
       "      <td>0</td>\n",
       "      <td>0</td>\n",
       "      <td>0.0</td>\n",
       "      <td>0</td>\n",
       "      <td>0</td>\n",
       "      <td>0</td>\n",
       "      <td>...</td>\n",
       "      <td>False</td>\n",
       "      <td>1</td>\n",
       "      <td>0</td>\n",
       "      <td>0</td>\n",
       "      <td>0</td>\n",
       "      <td>0</td>\n",
       "      <td>1</td>\n",
       "      <td>79.597144</td>\n",
       "      <td>0</td>\n",
       "      <td>11</td>\n",
       "    </tr>\n",
       "    <tr>\n",
       "      <th>A03256-0</th>\n",
       "      <th>2018</th>\n",
       "      <th>SimOpt_no_management_0</th>\n",
       "      <td>2085</td>\n",
       "      <td>t0</td>\n",
       "      <td>0.0</td>\n",
       "      <td>0.0</td>\n",
       "      <td>0</td>\n",
       "      <td>0</td>\n",
       "      <td>0.0</td>\n",
       "      <td>0</td>\n",
       "      <td>0</td>\n",
       "      <td>0</td>\n",
       "      <td>...</td>\n",
       "      <td>False</td>\n",
       "      <td>1</td>\n",
       "      <td>0</td>\n",
       "      <td>1</td>\n",
       "      <td>0</td>\n",
       "      <td>0</td>\n",
       "      <td>1</td>\n",
       "      <td>0.000000</td>\n",
       "      <td>0</td>\n",
       "      <td>42</td>\n",
       "    </tr>\n",
       "  </tbody>\n",
       "</table>\n",
       "<p>5 rows × 56 columns</p>\n",
       "</div>"
      ],
      "text/plain": [
       "                                      Unnamed: 0 period  pulp_vol_m3  \\\n",
       "plot_id  year regime                                                   \n",
       "A03223-0 2018 SimOpt_no_management_0         609     t0          0.0   \n",
       "A03228-0 2018 SimOpt_no_management_0         706     t0          0.0   \n",
       "A03229-0 2018 SimOpt_no_management_0         803     t0          0.0   \n",
       "A03239-0 2018 SimOpt_no_management_0         852     t0          0.0   \n",
       "A03256-0 2018 SimOpt_no_management_0        2085     t0          0.0   \n",
       "\n",
       "                                      harv_cost_nok_m3  harv_cost_u150  \\\n",
       "plot_id  year regime                                                     \n",
       "A03223-0 2018 SimOpt_no_management_0               0.0               0   \n",
       "A03228-0 2018 SimOpt_no_management_0               0.0               0   \n",
       "A03229-0 2018 SimOpt_no_management_0               0.0               0   \n",
       "A03239-0 2018 SimOpt_no_management_0               0.0               0   \n",
       "A03256-0 2018 SimOpt_no_management_0               0.0               0   \n",
       "\n",
       "                                      harv_cost_u200  net_increment_m3  \\\n",
       "plot_id  year regime                                                     \n",
       "A03223-0 2018 SimOpt_no_management_0               0               0.0   \n",
       "A03228-0 2018 SimOpt_no_management_0               0               0.0   \n",
       "A03229-0 2018 SimOpt_no_management_0               0               0.0   \n",
       "A03239-0 2018 SimOpt_no_management_0               0               0.0   \n",
       "A03256-0 2018 SimOpt_no_management_0               0               0.0   \n",
       "\n",
       "                                      is_old  is_broadleave  \\\n",
       "plot_id  year regime                                          \n",
       "A03223-0 2018 SimOpt_no_management_0       0              0   \n",
       "A03228-0 2018 SimOpt_no_management_0       0              0   \n",
       "A03229-0 2018 SimOpt_no_management_0       0              0   \n",
       "A03239-0 2018 SimOpt_no_management_0       0              0   \n",
       "A03256-0 2018 SimOpt_no_management_0       0              0   \n",
       "\n",
       "                                      MiS_classified_plot  ...  finalFelling  \\\n",
       "plot_id  year regime                                       ...                 \n",
       "A03223-0 2018 SimOpt_no_management_0                    0  ...         False   \n",
       "A03228-0 2018 SimOpt_no_management_0                    0  ...         False   \n",
       "A03229-0 2018 SimOpt_no_management_0                    0  ...         False   \n",
       "A03239-0 2018 SimOpt_no_management_0                    0  ...         False   \n",
       "A03256-0 2018 SimOpt_no_management_0                    0  ...         False   \n",
       "\n",
       "                                      is_CCF  is_nomanagement  is_vers_or_ste  \\\n",
       "plot_id  year regime                                                            \n",
       "A03223-0 2018 SimOpt_no_management_0       1                0               1   \n",
       "A03228-0 2018 SimOpt_no_management_0       1                0               0   \n",
       "A03229-0 2018 SimOpt_no_management_0       1                0               1   \n",
       "A03239-0 2018 SimOpt_no_management_0       1                0               0   \n",
       "A03256-0 2018 SimOpt_no_management_0       1                0               1   \n",
       "\n",
       "                                      FinaL_versk  FinaL_city  High_classdbh  \\\n",
       "plot_id  year regime                                                           \n",
       "A03223-0 2018 SimOpt_no_management_0            0           0              1   \n",
       "A03228-0 2018 SimOpt_no_management_0            0           0              1   \n",
       "A03229-0 2018 SimOpt_no_management_0            0           0              0   \n",
       "A03239-0 2018 SimOpt_no_management_0            0           0              1   \n",
       "A03256-0 2018 SimOpt_no_management_0            0           0              1   \n",
       "\n",
       "                                      Sha_highclassdbh_Tot_Nor  \\\n",
       "plot_id  year regime                                             \n",
       "A03223-0 2018 SimOpt_no_management_0                178.909481   \n",
       "A03228-0 2018 SimOpt_no_management_0                  0.000000   \n",
       "A03229-0 2018 SimOpt_no_management_0                  0.000000   \n",
       "A03239-0 2018 SimOpt_no_management_0                 79.597144   \n",
       "A03256-0 2018 SimOpt_no_management_0                  0.000000   \n",
       "\n",
       "                                      hel.delt.flate  fylnr  \n",
       "plot_id  year regime                                         \n",
       "A03223-0 2018 SimOpt_no_management_0               0     11  \n",
       "A03228-0 2018 SimOpt_no_management_0               0     11  \n",
       "A03229-0 2018 SimOpt_no_management_0               0     11  \n",
       "A03239-0 2018 SimOpt_no_management_0               0     11  \n",
       "A03256-0 2018 SimOpt_no_management_0               0     42  \n",
       "\n",
       "[5 rows x 56 columns]"
      ]
     },
     "execution_count": 19,
     "metadata": {},
     "output_type": "execute_result"
    }
   ],
   "source": [
    "mfo.initialData.head()"
   ]
  },
  {
   "cell_type": "markdown",
   "metadata": {},
   "source": [
    "## Definimos los objetivos en la optimización"
   ]
  },
  {
   "cell_type": "markdown",
   "metadata": {},
   "source": [
    "### Define the objectives"
   ]
  },
  {
   "cell_type": "markdown",
   "metadata": {},
   "source": [
    "Objective format: \n",
    "\n",
    "Unique_key : (Long human readable name,column name in data, max/min objective, year wise aggregation, stand wise aggregation [, target year])"
   ]
  },
  {
   "cell_type": "code",
   "execution_count": 24,
   "metadata": {},
   "outputs": [],
   "source": [
    "Wood_production =  {\n",
    "\n",
    "       \"harvest_netvalue_Mnok_min\": [\"Maximize netvalue (MAX Millions nok/m2) min\",\n",
    "                              \"harv_net_Mnok_TotNor\", \"max\",\"min\",\"sum\"], \n",
    "}"
   ]
  },
  {
   "cell_type": "code",
   "execution_count": 26,
   "metadata": {},
   "outputs": [],
   "source": [
    "## maximize bidiversity,\n",
    "## constrain: increase, with the current level of habitat indicators we are still seeing loss in biodiversity\n",
    "Biodiversity =  {\n",
    "     \"MiSIncrease\":[\"Not decreasing area of MiS classified plots (max)\",\n",
    "                   \"MiS_ha\", \"max\",\"minYearlyIncrease\",\"sum\"],\n",
    "    \n",
    "    \"MiSMaxMin\":[\"Not decreasing area of MiS classified plots (max)\",\n",
    "                   \"Relative_MiS_ha\", \"max\",\"min\",\"sum\"],\n",
    " \n",
    "    \"deadWoodIncrease\":[\"Minimum yearly incrase in vol Millions m3 of dead wood (max)\",\n",
    "                        \"dead_vol_Mm3_TotNor\", \"max\",\"minYearlyIncrease\",\"sum\"],\n",
    "    \"deadWoodMaxMin\":[\"Minimum yearly incrase in vol Millions m3 of dead wood (max)\",\n",
    "                        \"Relative_dead_vol_Mm3_TotNor\", \"max\",\"min\",\"sum\"],\n",
    "    \n",
    "    \"blueberryIncrease\":[\"Minimum yearly incrase in area of blueberry cover(max)\",\n",
    "                         \"Bilberry_ha_TotNor\",\"max\",\"minYearlyIncrease\",\"areaWeightedSum\"],\n",
    "    \n",
    "    \"blueberryMaxMin\":[\"MaxMin in area of blueberry cover (max)\",\n",
    "                         \"Relative_Bilberry_ha_TotNor\",\"max\",\"min\",\"sum\"],\n",
    "    \n",
    "}"
   ]
  },
  {
   "cell_type": "code",
   "execution_count": 28,
   "metadata": {},
   "outputs": [],
   "source": [
    "## decrease harvest in vernskog and in steep terrain in general\n",
    "##(everything that needs to be harvested by cableyarder gravedrift).\n",
    "Erosion_and_water = {\n",
    "    \"Decrease_harvested_in_vernskog_or_steep\": [\"Decrease harvest in verskog ha harvested(minimize ha over all years)\",\n",
    "                                       \"FinaL_versk\", \"min\",\"max\",\"areaWeightedSum\"],\n",
    "}"
   ]
  },
  {
   "cell_type": "code",
   "execution_count": 30,
   "metadata": {},
   "outputs": [],
   "source": [
    "## not decreasing\n",
    "Recreation = {\n",
    "    \n",
    "      \"ShannonIncrease\":[\"MAxMin Shanon in plots with larger dbh (not decrease)\",\n",
    "                         \"Relative_Sha_highclassdbh_Tot_Nor\",  \"max\", \"min\",\"sum\"] ,\n",
    "    ## ha in protected areas,--- we can't really include it, we couldmaximie no management?\n",
    "    \n",
    "}"
   ]
  },
  {
   "cell_type": "code",
   "execution_count": 32,
   "metadata": {},
   "outputs": [],
   "source": [
    "objectives = {\n",
    "    #**Non_Wood,\n",
    "    **Wood_production,\n",
    "    **Biodiversity,\n",
    "    **Erosion_and_water,\n",
    "    **Recreation,\n",
    "}"
   ]
  },
  {
   "cell_type": "code",
   "execution_count": 34,
   "metadata": {},
   "outputs": [
    {
     "data": {
      "text/plain": [
       "9"
      ]
     },
     "execution_count": 34,
     "metadata": {},
     "output_type": "execute_result"
    }
   ],
   "source": [
    "len(objectives)"
   ]
  },
  {
   "cell_type": "code",
   "execution_count": 36,
   "metadata": {},
   "outputs": [
    {
     "data": {
      "text/plain": [
       "dict_keys(['harvest_netvalue_Mnok_min', 'MiSIncrease', 'MiSMaxMin', 'deadWoodIncrease', 'deadWoodMaxMin', 'blueberryIncrease', 'blueberryMaxMin', 'Decrease_harvested_in_vernskog_or_steep', 'ShannonIncrease'])"
      ]
     },
     "execution_count": 36,
     "metadata": {},
     "output_type": "execute_result"
    }
   ],
   "source": [
    "objectives.keys()"
   ]
  },
  {
   "cell_type": "code",
   "execution_count": 38,
   "metadata": {},
   "outputs": [
    {
     "data": {
      "text/plain": [
       "Index(['Unnamed: 0', 'period', 'pulp_vol_m3', 'harv_cost_nok_m3',\n",
       "       'harv_cost_u150', 'harv_cost_u200', 'net_increment_m3', 'is_old',\n",
       "       'is_broadleave', 'MiS_classified_plot', 'bilberry_cover_pr',\n",
       "       'GROT_kt_TotNor', 'vol_saw_m3', 'saw_CO2_t', 'vol_panels_m3',\n",
       "       'panels_CO2_t', 'albedo', 'is_steep_terrain', 'is_vernskog',\n",
       "       'is_city_forest', 'shan', 'class_dbh', 'ha2total', 'management',\n",
       "       'harv_net_Mnok_TotNor', 'harv_vol_Mm3_TotNor', 'saw_vol_Mm3_TotNor',\n",
       "       'pulp_vol_Mm3_TotNor', 'dead_vol_Mm3_TotNor', 'tsd_ha2total',\n",
       "       'CO2_forest_Mil_Kt_TotNor', 'CO2_forest_Mil_Kt_TotNor_no_albedo',\n",
       "       'saw_CO2_change_Kt_TotNor', 'saw_CO2_Kt_TotNor',\n",
       "       'panels_CO2_change_Kt_TotNor', 'HWP_C02_TotNor', 'Bilberry_ha_TotNor',\n",
       "       'MiS_ha', 'SawTimber_Mm3_year', 'pulp_Mm3_year', 'GROT_t', 'GROT_m3',\n",
       "       'GROT_Mm3', 'Residues_Mm3_year', 'harvest_demands_Mm3_year',\n",
       "       'regime.class', 'finalFelling', 'is_CCF', 'is_nomanagement',\n",
       "       'is_vers_or_ste', 'FinaL_versk', 'FinaL_city', 'High_classdbh',\n",
       "       'Sha_highclassdbh_Tot_Nor', 'hel.delt.flate', 'fylnr',\n",
       "       'Relative_albedo', 'Relative_shan', 'Relative_ha2total',\n",
       "       'Relative_dead_vol_Mm3_TotNor', 'Relative_tsd_ha2total',\n",
       "       'Relative_CO2_forest_Mil_Kt_TotNor',\n",
       "       'Relative_CO2_forest_Mil_Kt_TotNor_no_albedo',\n",
       "       'Relative_Bilberry_ha_TotNor', 'Relative_MiS_ha',\n",
       "       'Relative_Sha_highclassdbh_Tot_Nor'],\n",
       "      dtype='object')"
      ]
     },
     "execution_count": 38,
     "metadata": {},
     "output_type": "execute_result"
    }
   ],
   "source": [
    "mfo.data.columns"
   ]
  },
  {
   "cell_type": "code",
   "execution_count": 40,
   "metadata": {},
   "outputs": [
    {
     "data": {
      "text/plain": [
       "'Defining objectives'"
      ]
     },
     "metadata": {},
     "output_type": "display_data"
    },
    {
     "data": {
      "text/plain": [
       "'Aggregating stand wise'"
      ]
     },
     "metadata": {},
     "output_type": "display_data"
    },
    {
     "name": "stderr",
     "output_type": "stream",
     "text": [
      "100%|████████████████████████████████████████████████████████████████████████████████████| 9/9 [00:30<00:00,  3.35s/it]\n"
     ]
    },
    {
     "data": {
      "text/plain": [
       "'Aggregating year wise'"
      ]
     },
     "metadata": {},
     "output_type": "display_data"
    },
    {
     "name": "stdout",
     "output_type": "stream",
     "text": [
      "100%|███████████████████████████████████████████████████████████████████████████████████| 9/9 [00:00<00:00, 579.12it/s]\n"
     ]
    },
    {
     "data": {
      "text/plain": [
       "'Objectives added'"
      ]
     },
     "metadata": {},
     "output_type": "display_data"
    }
   ],
   "source": [
    "mfo.defineObjectives(objectiveTypes= objectives)"
   ]
  },
  {
   "cell_type": "markdown",
   "metadata": {},
   "source": [
    "## Calculate objective ranges"
   ]
  },
  {
   "cell_type": "code",
   "execution_count": 42,
   "metadata": {
    "scrolled": true
   },
   "outputs": [
    {
     "data": {
      "text/plain": [
       "'Calculating objective ranges'"
      ]
     },
     "metadata": {},
     "output_type": "display_data"
    },
    {
     "name": "stdout",
     "output_type": "stream",
     "text": [
      "  0%|                                                                                            | 0/9 [00:00<?, ?it/s]"
     ]
    },
    {
     "data": {
      "text/plain": [
       "'Optimizing for Maximize netvalue (MAX Millions nok/m2) min'"
      ]
     },
     "metadata": {},
     "output_type": "display_data"
    },
    {
     "data": {
      "text/plain": [
       "'Found an optimal solution in 2 seconds'"
      ]
     },
     "metadata": {},
     "output_type": "display_data"
    },
    {
     "data": {
      "text/plain": [
       "'Objective values are:'"
      ]
     },
     "metadata": {},
     "output_type": "display_data"
    },
    {
     "data": {
      "text/plain": [
       "'Maximize netvalue (MAX Millions nok/m2) min'"
      ]
     },
     "metadata": {},
     "output_type": "display_data"
    },
    {
     "data": {
      "text/plain": [
       "1880.5320842263086"
      ]
     },
     "metadata": {},
     "output_type": "display_data"
    },
    {
     "data": {
      "text/plain": [
       "'Not decreasing area of MiS classified plots (max)'"
      ]
     },
     "metadata": {},
     "output_type": "display_data"
    },
    {
     "data": {
      "text/plain": [
       "-8983.173511891975"
      ]
     },
     "metadata": {},
     "output_type": "display_data"
    },
    {
     "data": {
      "text/plain": [
       "'Not decreasing area of MiS classified plots (max)'"
      ]
     },
     "metadata": {},
     "output_type": "display_data"
    },
    {
     "data": {
      "text/plain": [
       "0.0"
      ]
     },
     "metadata": {},
     "output_type": "display_data"
    },
    {
     "data": {
      "text/plain": [
       "'Minimum yearly incrase in vol Millions m3 of dead wood (max)'"
      ]
     },
     "metadata": {},
     "output_type": "display_data"
    },
    {
     "data": {
      "text/plain": [
       "0.0"
      ]
     },
     "metadata": {},
     "output_type": "display_data"
    },
    {
     "data": {
      "text/plain": [
       "'Minimum yearly incrase in vol Millions m3 of dead wood (max)'"
      ]
     },
     "metadata": {},
     "output_type": "display_data"
    },
    {
     "data": {
      "text/plain": [
       "0.0"
      ]
     },
     "metadata": {},
     "output_type": "display_data"
    },
    {
     "data": {
      "text/plain": [
       "'Minimum yearly incrase in area of blueberry cover(max)'"
      ]
     },
     "metadata": {},
     "output_type": "display_data"
    },
    {
     "data": {
      "text/plain": [
       "-1526.5637201376376"
      ]
     },
     "metadata": {},
     "output_type": "display_data"
    },
    {
     "data": {
      "text/plain": [
       "'MaxMin in area of blueberry cover (max)'"
      ]
     },
     "metadata": {},
     "output_type": "display_data"
    },
    {
     "data": {
      "text/plain": [
       "0.0"
      ]
     },
     "metadata": {},
     "output_type": "display_data"
    },
    {
     "data": {
      "text/plain": [
       "'Decrease harvest in verskog ha harvested(minimize ha over all years)'"
      ]
     },
     "metadata": {},
     "output_type": "display_data"
    },
    {
     "data": {
      "text/plain": [
       "16.042036399999997"
      ]
     },
     "metadata": {},
     "output_type": "display_data"
    },
    {
     "data": {
      "text/plain": [
       "'MAxMin Shanon in plots with larger dbh (not decrease)'"
      ]
     },
     "metadata": {},
     "output_type": "display_data"
    },
    {
     "data": {
      "text/plain": [
       "0.0"
      ]
     },
     "metadata": {},
     "output_type": "display_data"
    },
    {
     "name": "stdout",
     "output_type": "stream",
     "text": [
      " 11%|█████████▎                                                                          | 1/9 [00:02<00:21,  2.75s/it]"
     ]
    },
    {
     "data": {
      "text/plain": [
       "'Optimizing for Not decreasing area of MiS classified plots (max)'"
      ]
     },
     "metadata": {},
     "output_type": "display_data"
    },
    {
     "data": {
      "text/plain": [
       "'Found an optimal solution in 2 seconds'"
      ]
     },
     "metadata": {},
     "output_type": "display_data"
    },
    {
     "data": {
      "text/plain": [
       "'Objective values are:'"
      ]
     },
     "metadata": {},
     "output_type": "display_data"
    },
    {
     "data": {
      "text/plain": [
       "'Maximize netvalue (MAX Millions nok/m2) min'"
      ]
     },
     "metadata": {},
     "output_type": "display_data"
    },
    {
     "data": {
      "text/plain": [
       "0.0"
      ]
     },
     "metadata": {},
     "output_type": "display_data"
    },
    {
     "data": {
      "text/plain": [
       "'Not decreasing area of MiS classified plots (max)'"
      ]
     },
     "metadata": {},
     "output_type": "display_data"
    },
    {
     "data": {
      "text/plain": [
       "20304.223700000028"
      ]
     },
     "metadata": {},
     "output_type": "display_data"
    },
    {
     "data": {
      "text/plain": [
       "'Not decreasing area of MiS classified plots (max)'"
      ]
     },
     "metadata": {},
     "output_type": "display_data"
    },
    {
     "data": {
      "text/plain": [
       "0.0"
      ]
     },
     "metadata": {},
     "output_type": "display_data"
    },
    {
     "data": {
      "text/plain": [
       "'Minimum yearly incrase in vol Millions m3 of dead wood (max)'"
      ]
     },
     "metadata": {},
     "output_type": "display_data"
    },
    {
     "data": {
      "text/plain": [
       "0.0"
      ]
     },
     "metadata": {},
     "output_type": "display_data"
    },
    {
     "data": {
      "text/plain": [
       "'Minimum yearly incrase in vol Millions m3 of dead wood (max)'"
      ]
     },
     "metadata": {},
     "output_type": "display_data"
    },
    {
     "data": {
      "text/plain": [
       "0.0"
      ]
     },
     "metadata": {},
     "output_type": "display_data"
    },
    {
     "data": {
      "text/plain": [
       "'Minimum yearly incrase in area of blueberry cover(max)'"
      ]
     },
     "metadata": {},
     "output_type": "display_data"
    },
    {
     "data": {
      "text/plain": [
       "-5588.456424623917"
      ]
     },
     "metadata": {},
     "output_type": "display_data"
    },
    {
     "data": {
      "text/plain": [
       "'MaxMin in area of blueberry cover (max)'"
      ]
     },
     "metadata": {},
     "output_type": "display_data"
    },
    {
     "data": {
      "text/plain": [
       "0.0"
      ]
     },
     "metadata": {},
     "output_type": "display_data"
    },
    {
     "data": {
      "text/plain": [
       "'Decrease harvest in verskog ha harvested(minimize ha over all years)'"
      ]
     },
     "metadata": {},
     "output_type": "display_data"
    },
    {
     "data": {
      "text/plain": [
       "23.42614239999999"
      ]
     },
     "metadata": {},
     "output_type": "display_data"
    },
    {
     "data": {
      "text/plain": [
       "'MAxMin Shanon in plots with larger dbh (not decrease)'"
      ]
     },
     "metadata": {},
     "output_type": "display_data"
    },
    {
     "data": {
      "text/plain": [
       "0.0"
      ]
     },
     "metadata": {},
     "output_type": "display_data"
    },
    {
     "name": "stdout",
     "output_type": "stream",
     "text": [
      " 22%|██████████████████▋                                                                 | 2/9 [00:05<00:17,  2.54s/it]"
     ]
    },
    {
     "data": {
      "text/plain": [
       "'Optimizing for Not decreasing area of MiS classified plots (max)'"
      ]
     },
     "metadata": {},
     "output_type": "display_data"
    },
    {
     "data": {
      "text/plain": [
       "'Found an optimal solution in 2 seconds'"
      ]
     },
     "metadata": {},
     "output_type": "display_data"
    },
    {
     "data": {
      "text/plain": [
       "'Objective values are:'"
      ]
     },
     "metadata": {},
     "output_type": "display_data"
    },
    {
     "data": {
      "text/plain": [
       "'Maximize netvalue (MAX Millions nok/m2) min'"
      ]
     },
     "metadata": {},
     "output_type": "display_data"
    },
    {
     "data": {
      "text/plain": [
       "0.0"
      ]
     },
     "metadata": {},
     "output_type": "display_data"
    },
    {
     "data": {
      "text/plain": [
       "'Not decreasing area of MiS classified plots (max)'"
      ]
     },
     "metadata": {},
     "output_type": "display_data"
    },
    {
     "data": {
      "text/plain": [
       "-7846.285999999993"
      ]
     },
     "metadata": {},
     "output_type": "display_data"
    },
    {
     "data": {
      "text/plain": [
       "'Not decreasing area of MiS classified plots (max)'"
      ]
     },
     "metadata": {},
     "output_type": "display_data"
    },
    {
     "data": {
      "text/plain": [
       "1.0932203331973596"
      ]
     },
     "metadata": {},
     "output_type": "display_data"
    },
    {
     "data": {
      "text/plain": [
       "'Minimum yearly incrase in vol Millions m3 of dead wood (max)'"
      ]
     },
     "metadata": {},
     "output_type": "display_data"
    },
    {
     "data": {
      "text/plain": [
       "0.0"
      ]
     },
     "metadata": {},
     "output_type": "display_data"
    },
    {
     "data": {
      "text/plain": [
       "'Minimum yearly incrase in vol Millions m3 of dead wood (max)'"
      ]
     },
     "metadata": {},
     "output_type": "display_data"
    },
    {
     "data": {
      "text/plain": [
       "0.0"
      ]
     },
     "metadata": {},
     "output_type": "display_data"
    },
    {
     "data": {
      "text/plain": [
       "'Minimum yearly incrase in area of blueberry cover(max)'"
      ]
     },
     "metadata": {},
     "output_type": "display_data"
    },
    {
     "data": {
      "text/plain": [
       "-5590.13127664366"
      ]
     },
     "metadata": {},
     "output_type": "display_data"
    },
    {
     "data": {
      "text/plain": [
       "'MaxMin in area of blueberry cover (max)'"
      ]
     },
     "metadata": {},
     "output_type": "display_data"
    },
    {
     "data": {
      "text/plain": [
       "0.0"
      ]
     },
     "metadata": {},
     "output_type": "display_data"
    },
    {
     "data": {
      "text/plain": [
       "'Decrease harvest in verskog ha harvested(minimize ha over all years)'"
      ]
     },
     "metadata": {},
     "output_type": "display_data"
    },
    {
     "data": {
      "text/plain": [
       "20.878493599999995"
      ]
     },
     "metadata": {},
     "output_type": "display_data"
    },
    {
     "data": {
      "text/plain": [
       "'MAxMin Shanon in plots with larger dbh (not decrease)'"
      ]
     },
     "metadata": {},
     "output_type": "display_data"
    },
    {
     "data": {
      "text/plain": [
       "0.0"
      ]
     },
     "metadata": {},
     "output_type": "display_data"
    },
    {
     "name": "stdout",
     "output_type": "stream",
     "text": [
      " 33%|████████████████████████████                                                        | 3/9 [00:07<00:15,  2.52s/it]"
     ]
    },
    {
     "data": {
      "text/plain": [
       "'Optimizing for Minimum yearly incrase in vol Millions m3 of dead wood (max)'"
      ]
     },
     "metadata": {},
     "output_type": "display_data"
    },
    {
     "data": {
      "text/plain": [
       "'Found an optimal solution in 2 seconds'"
      ]
     },
     "metadata": {},
     "output_type": "display_data"
    },
    {
     "data": {
      "text/plain": [
       "'Objective values are:'"
      ]
     },
     "metadata": {},
     "output_type": "display_data"
    },
    {
     "data": {
      "text/plain": [
       "'Maximize netvalue (MAX Millions nok/m2) min'"
      ]
     },
     "metadata": {},
     "output_type": "display_data"
    },
    {
     "data": {
      "text/plain": [
       "-132.6409217328611"
      ]
     },
     "metadata": {},
     "output_type": "display_data"
    },
    {
     "data": {
      "text/plain": [
       "'Not decreasing area of MiS classified plots (max)'"
      ]
     },
     "metadata": {},
     "output_type": "display_data"
    },
    {
     "data": {
      "text/plain": [
       "-19096.169599993504"
      ]
     },
     "metadata": {},
     "output_type": "display_data"
    },
    {
     "data": {
      "text/plain": [
       "'Not decreasing area of MiS classified plots (max)'"
      ]
     },
     "metadata": {},
     "output_type": "display_data"
    },
    {
     "data": {
      "text/plain": [
       "0.0"
      ]
     },
     "metadata": {},
     "output_type": "display_data"
    },
    {
     "data": {
      "text/plain": [
       "'Minimum yearly incrase in vol Millions m3 of dead wood (max)'"
      ]
     },
     "metadata": {},
     "output_type": "display_data"
    },
    {
     "data": {
      "text/plain": [
       "2.710974505387285"
      ]
     },
     "metadata": {},
     "output_type": "display_data"
    },
    {
     "data": {
      "text/plain": [
       "'Minimum yearly incrase in vol Millions m3 of dead wood (max)'"
      ]
     },
     "metadata": {},
     "output_type": "display_data"
    },
    {
     "data": {
      "text/plain": [
       "0.0"
      ]
     },
     "metadata": {},
     "output_type": "display_data"
    },
    {
     "data": {
      "text/plain": [
       "'Minimum yearly incrase in area of blueberry cover(max)'"
      ]
     },
     "metadata": {},
     "output_type": "display_data"
    },
    {
     "data": {
      "text/plain": [
       "-2572.5742107384754"
      ]
     },
     "metadata": {},
     "output_type": "display_data"
    },
    {
     "data": {
      "text/plain": [
       "'MaxMin in area of blueberry cover (max)'"
      ]
     },
     "metadata": {},
     "output_type": "display_data"
    },
    {
     "data": {
      "text/plain": [
       "0.0"
      ]
     },
     "metadata": {},
     "output_type": "display_data"
    },
    {
     "data": {
      "text/plain": [
       "'Decrease harvest in verskog ha harvested(minimize ha over all years)'"
      ]
     },
     "metadata": {},
     "output_type": "display_data"
    },
    {
     "data": {
      "text/plain": [
       "24.513673600000008"
      ]
     },
     "metadata": {},
     "output_type": "display_data"
    },
    {
     "data": {
      "text/plain": [
       "'MAxMin Shanon in plots with larger dbh (not decrease)'"
      ]
     },
     "metadata": {},
     "output_type": "display_data"
    },
    {
     "data": {
      "text/plain": [
       "0.0"
      ]
     },
     "metadata": {},
     "output_type": "display_data"
    },
    {
     "name": "stdout",
     "output_type": "stream",
     "text": [
      " 44%|█████████████████████████████████████▎                                              | 4/9 [00:10<00:13,  2.71s/it]"
     ]
    },
    {
     "data": {
      "text/plain": [
       "'Optimizing for Minimum yearly incrase in vol Millions m3 of dead wood (max)'"
      ]
     },
     "metadata": {},
     "output_type": "display_data"
    },
    {
     "data": {
      "text/plain": [
       "'Found an optimal solution in 2 seconds'"
      ]
     },
     "metadata": {},
     "output_type": "display_data"
    },
    {
     "data": {
      "text/plain": [
       "'Objective values are:'"
      ]
     },
     "metadata": {},
     "output_type": "display_data"
    },
    {
     "data": {
      "text/plain": [
       "'Maximize netvalue (MAX Millions nok/m2) min'"
      ]
     },
     "metadata": {},
     "output_type": "display_data"
    },
    {
     "data": {
      "text/plain": [
       "-291.57157476371873"
      ]
     },
     "metadata": {},
     "output_type": "display_data"
    },
    {
     "data": {
      "text/plain": [
       "'Not decreasing area of MiS classified plots (max)'"
      ]
     },
     "metadata": {},
     "output_type": "display_data"
    },
    {
     "data": {
      "text/plain": [
       "-23602.359599992953"
      ]
     },
     "metadata": {},
     "output_type": "display_data"
    },
    {
     "data": {
      "text/plain": [
       "'Not decreasing area of MiS classified plots (max)'"
      ]
     },
     "metadata": {},
     "output_type": "display_data"
    },
    {
     "data": {
      "text/plain": [
       "0.0"
      ]
     },
     "metadata": {},
     "output_type": "display_data"
    },
    {
     "data": {
      "text/plain": [
       "'Minimum yearly incrase in vol Millions m3 of dead wood (max)'"
      ]
     },
     "metadata": {},
     "output_type": "display_data"
    },
    {
     "data": {
      "text/plain": [
       "0.0"
      ]
     },
     "metadata": {},
     "output_type": "display_data"
    },
    {
     "data": {
      "text/plain": [
       "'Minimum yearly incrase in vol Millions m3 of dead wood (max)'"
      ]
     },
     "metadata": {},
     "output_type": "display_data"
    },
    {
     "data": {
      "text/plain": [
       "1.222566378844789"
      ]
     },
     "metadata": {},
     "output_type": "display_data"
    },
    {
     "data": {
      "text/plain": [
       "'Minimum yearly incrase in area of blueberry cover(max)'"
      ]
     },
     "metadata": {},
     "output_type": "display_data"
    },
    {
     "data": {
      "text/plain": [
       "-2798.9776999528694"
      ]
     },
     "metadata": {},
     "output_type": "display_data"
    },
    {
     "data": {
      "text/plain": [
       "'MaxMin in area of blueberry cover (max)'"
      ]
     },
     "metadata": {},
     "output_type": "display_data"
    },
    {
     "data": {
      "text/plain": [
       "0.0"
      ]
     },
     "metadata": {},
     "output_type": "display_data"
    },
    {
     "data": {
      "text/plain": [
       "'Decrease harvest in verskog ha harvested(minimize ha over all years)'"
      ]
     },
     "metadata": {},
     "output_type": "display_data"
    },
    {
     "data": {
      "text/plain": [
       "25.865530600014587"
      ]
     },
     "metadata": {},
     "output_type": "display_data"
    },
    {
     "data": {
      "text/plain": [
       "'MAxMin Shanon in plots with larger dbh (not decrease)'"
      ]
     },
     "metadata": {},
     "output_type": "display_data"
    },
    {
     "data": {
      "text/plain": [
       "0.0"
      ]
     },
     "metadata": {},
     "output_type": "display_data"
    },
    {
     "name": "stdout",
     "output_type": "stream",
     "text": [
      " 56%|██████████████████████████████████████████████▋                                     | 5/9 [00:13<00:10,  2.60s/it]"
     ]
    },
    {
     "data": {
      "text/plain": [
       "'Optimizing for Minimum yearly incrase in area of blueberry cover(max)'"
      ]
     },
     "metadata": {},
     "output_type": "display_data"
    },
    {
     "data": {
      "text/plain": [
       "'Found an optimal solution in 2 seconds'"
      ]
     },
     "metadata": {},
     "output_type": "display_data"
    },
    {
     "data": {
      "text/plain": [
       "'Objective values are:'"
      ]
     },
     "metadata": {},
     "output_type": "display_data"
    },
    {
     "data": {
      "text/plain": [
       "'Maximize netvalue (MAX Millions nok/m2) min'"
      ]
     },
     "metadata": {},
     "output_type": "display_data"
    },
    {
     "data": {
      "text/plain": [
       "-409.4405861877023"
      ]
     },
     "metadata": {},
     "output_type": "display_data"
    },
    {
     "data": {
      "text/plain": [
       "'Not decreasing area of MiS classified plots (max)'"
      ]
     },
     "metadata": {},
     "output_type": "display_data"
    },
    {
     "data": {
      "text/plain": [
       "-573.6663649488764"
      ]
     },
     "metadata": {},
     "output_type": "display_data"
    },
    {
     "data": {
      "text/plain": [
       "'Not decreasing area of MiS classified plots (max)'"
      ]
     },
     "metadata": {},
     "output_type": "display_data"
    },
    {
     "data": {
      "text/plain": [
       "0.0"
      ]
     },
     "metadata": {},
     "output_type": "display_data"
    },
    {
     "data": {
      "text/plain": [
       "'Minimum yearly incrase in vol Millions m3 of dead wood (max)'"
      ]
     },
     "metadata": {},
     "output_type": "display_data"
    },
    {
     "data": {
      "text/plain": [
       "0.0"
      ]
     },
     "metadata": {},
     "output_type": "display_data"
    },
    {
     "data": {
      "text/plain": [
       "'Minimum yearly incrase in vol Millions m3 of dead wood (max)'"
      ]
     },
     "metadata": {},
     "output_type": "display_data"
    },
    {
     "data": {
      "text/plain": [
       "0.0"
      ]
     },
     "metadata": {},
     "output_type": "display_data"
    },
    {
     "data": {
      "text/plain": [
       "'Minimum yearly incrase in area of blueberry cover(max)'"
      ]
     },
     "metadata": {},
     "output_type": "display_data"
    },
    {
     "data": {
      "text/plain": [
       "1363.016648740616"
      ]
     },
     "metadata": {},
     "output_type": "display_data"
    },
    {
     "data": {
      "text/plain": [
       "'MaxMin in area of blueberry cover (max)'"
      ]
     },
     "metadata": {},
     "output_type": "display_data"
    },
    {
     "data": {
      "text/plain": [
       "0.0"
      ]
     },
     "metadata": {},
     "output_type": "display_data"
    },
    {
     "data": {
      "text/plain": [
       "'Decrease harvest in verskog ha harvested(minimize ha over all years)'"
      ]
     },
     "metadata": {},
     "output_type": "display_data"
    },
    {
     "data": {
      "text/plain": [
       "147.0235291067866"
      ]
     },
     "metadata": {},
     "output_type": "display_data"
    },
    {
     "data": {
      "text/plain": [
       "'MAxMin Shanon in plots with larger dbh (not decrease)'"
      ]
     },
     "metadata": {},
     "output_type": "display_data"
    },
    {
     "data": {
      "text/plain": [
       "0.0"
      ]
     },
     "metadata": {},
     "output_type": "display_data"
    },
    {
     "name": "stdout",
     "output_type": "stream",
     "text": [
      " 67%|████████████████████████████████████████████████████████                            | 6/9 [00:16<00:08,  2.73s/it]"
     ]
    },
    {
     "data": {
      "text/plain": [
       "'Optimizing for MaxMin in area of blueberry cover (max)'"
      ]
     },
     "metadata": {},
     "output_type": "display_data"
    },
    {
     "data": {
      "text/plain": [
       "'Found an optimal solution in 2 seconds'"
      ]
     },
     "metadata": {},
     "output_type": "display_data"
    },
    {
     "data": {
      "text/plain": [
       "'Objective values are:'"
      ]
     },
     "metadata": {},
     "output_type": "display_data"
    },
    {
     "data": {
      "text/plain": [
       "'Maximize netvalue (MAX Millions nok/m2) min'"
      ]
     },
     "metadata": {},
     "output_type": "display_data"
    },
    {
     "data": {
      "text/plain": [
       "-237.26214436953452"
      ]
     },
     "metadata": {},
     "output_type": "display_data"
    },
    {
     "data": {
      "text/plain": [
       "'Not decreasing area of MiS classified plots (max)'"
      ]
     },
     "metadata": {},
     "output_type": "display_data"
    },
    {
     "data": {
      "text/plain": [
       "-10819.416600128636"
      ]
     },
     "metadata": {},
     "output_type": "display_data"
    },
    {
     "data": {
      "text/plain": [
       "'Not decreasing area of MiS classified plots (max)'"
      ]
     },
     "metadata": {},
     "output_type": "display_data"
    },
    {
     "data": {
      "text/plain": [
       "0.0"
      ]
     },
     "metadata": {},
     "output_type": "display_data"
    },
    {
     "data": {
      "text/plain": [
       "'Minimum yearly incrase in vol Millions m3 of dead wood (max)'"
      ]
     },
     "metadata": {},
     "output_type": "display_data"
    },
    {
     "data": {
      "text/plain": [
       "0.0"
      ]
     },
     "metadata": {},
     "output_type": "display_data"
    },
    {
     "data": {
      "text/plain": [
       "'Minimum yearly incrase in vol Millions m3 of dead wood (max)'"
      ]
     },
     "metadata": {},
     "output_type": "display_data"
    },
    {
     "data": {
      "text/plain": [
       "0.0"
      ]
     },
     "metadata": {},
     "output_type": "display_data"
    },
    {
     "data": {
      "text/plain": [
       "'Minimum yearly incrase in area of blueberry cover(max)'"
      ]
     },
     "metadata": {},
     "output_type": "display_data"
    },
    {
     "data": {
      "text/plain": [
       "-1241.862974305157"
      ]
     },
     "metadata": {},
     "output_type": "display_data"
    },
    {
     "data": {
      "text/plain": [
       "'MaxMin in area of blueberry cover (max)'"
      ]
     },
     "metadata": {},
     "output_type": "display_data"
    },
    {
     "data": {
      "text/plain": [
       "1.0205705631374387"
      ]
     },
     "metadata": {},
     "output_type": "display_data"
    },
    {
     "data": {
      "text/plain": [
       "'Decrease harvest in verskog ha harvested(minimize ha over all years)'"
      ]
     },
     "metadata": {},
     "output_type": "display_data"
    },
    {
     "data": {
      "text/plain": [
       "16.132160200089732"
      ]
     },
     "metadata": {},
     "output_type": "display_data"
    },
    {
     "data": {
      "text/plain": [
       "'MAxMin Shanon in plots with larger dbh (not decrease)'"
      ]
     },
     "metadata": {},
     "output_type": "display_data"
    },
    {
     "data": {
      "text/plain": [
       "0.0"
      ]
     },
     "metadata": {},
     "output_type": "display_data"
    },
    {
     "name": "stdout",
     "output_type": "stream",
     "text": [
      " 78%|█████████████████████████████████████████████████████████████████▎                  | 7/9 [00:18<00:05,  2.71s/it]"
     ]
    },
    {
     "data": {
      "text/plain": [
       "'Optimizing for Decrease harvest in verskog ha harvested(minimize ha over all years)'"
      ]
     },
     "metadata": {},
     "output_type": "display_data"
    },
    {
     "data": {
      "text/plain": [
       "'Found an optimal solution in 2 seconds'"
      ]
     },
     "metadata": {},
     "output_type": "display_data"
    },
    {
     "data": {
      "text/plain": [
       "'Objective values are:'"
      ]
     },
     "metadata": {},
     "output_type": "display_data"
    },
    {
     "data": {
      "text/plain": [
       "'Maximize netvalue (MAX Millions nok/m2) min'"
      ]
     },
     "metadata": {},
     "output_type": "display_data"
    },
    {
     "data": {
      "text/plain": [
       "0.0"
      ]
     },
     "metadata": {},
     "output_type": "display_data"
    },
    {
     "data": {
      "text/plain": [
       "'Not decreasing area of MiS classified plots (max)'"
      ]
     },
     "metadata": {},
     "output_type": "display_data"
    },
    {
     "data": {
      "text/plain": [
       "-11991.026000000013"
      ]
     },
     "metadata": {},
     "output_type": "display_data"
    },
    {
     "data": {
      "text/plain": [
       "'Not decreasing area of MiS classified plots (max)'"
      ]
     },
     "metadata": {},
     "output_type": "display_data"
    },
    {
     "data": {
      "text/plain": [
       "0.0"
      ]
     },
     "metadata": {},
     "output_type": "display_data"
    },
    {
     "data": {
      "text/plain": [
       "'Minimum yearly incrase in vol Millions m3 of dead wood (max)'"
      ]
     },
     "metadata": {},
     "output_type": "display_data"
    },
    {
     "data": {
      "text/plain": [
       "0.0"
      ]
     },
     "metadata": {},
     "output_type": "display_data"
    },
    {
     "data": {
      "text/plain": [
       "'Minimum yearly incrase in vol Millions m3 of dead wood (max)'"
      ]
     },
     "metadata": {},
     "output_type": "display_data"
    },
    {
     "data": {
      "text/plain": [
       "0.0"
      ]
     },
     "metadata": {},
     "output_type": "display_data"
    },
    {
     "data": {
      "text/plain": [
       "'Minimum yearly incrase in area of blueberry cover(max)'"
      ]
     },
     "metadata": {},
     "output_type": "display_data"
    },
    {
     "data": {
      "text/plain": [
       "-6043.9504642546235"
      ]
     },
     "metadata": {},
     "output_type": "display_data"
    },
    {
     "data": {
      "text/plain": [
       "'MaxMin in area of blueberry cover (max)'"
      ]
     },
     "metadata": {},
     "output_type": "display_data"
    },
    {
     "data": {
      "text/plain": [
       "0.0"
      ]
     },
     "metadata": {},
     "output_type": "display_data"
    },
    {
     "data": {
      "text/plain": [
       "'Decrease harvest in verskog ha harvested(minimize ha over all years)'"
      ]
     },
     "metadata": {},
     "output_type": "display_data"
    },
    {
     "data": {
      "text/plain": [
       "0.0"
      ]
     },
     "metadata": {},
     "output_type": "display_data"
    },
    {
     "data": {
      "text/plain": [
       "'MAxMin Shanon in plots with larger dbh (not decrease)'"
      ]
     },
     "metadata": {},
     "output_type": "display_data"
    },
    {
     "data": {
      "text/plain": [
       "0.0"
      ]
     },
     "metadata": {},
     "output_type": "display_data"
    },
    {
     "name": "stdout",
     "output_type": "stream",
     "text": [
      " 89%|██████████████████████████████████████████████████████████████████████████▋         | 8/9 [00:20<00:02,  2.53s/it]"
     ]
    },
    {
     "data": {
      "text/plain": [
       "'Optimizing for MAxMin Shanon in plots with larger dbh (not decrease)'"
      ]
     },
     "metadata": {},
     "output_type": "display_data"
    },
    {
     "data": {
      "text/plain": [
       "'Found an optimal solution in 2 seconds'"
      ]
     },
     "metadata": {},
     "output_type": "display_data"
    },
    {
     "data": {
      "text/plain": [
       "'Objective values are:'"
      ]
     },
     "metadata": {},
     "output_type": "display_data"
    },
    {
     "data": {
      "text/plain": [
       "'Maximize netvalue (MAX Millions nok/m2) min'"
      ]
     },
     "metadata": {},
     "output_type": "display_data"
    },
    {
     "data": {
      "text/plain": [
       "0.0"
      ]
     },
     "metadata": {},
     "output_type": "display_data"
    },
    {
     "data": {
      "text/plain": [
       "'Not decreasing area of MiS classified plots (max)'"
      ]
     },
     "metadata": {},
     "output_type": "display_data"
    },
    {
     "data": {
      "text/plain": [
       "-4243.400995596981"
      ]
     },
     "metadata": {},
     "output_type": "display_data"
    },
    {
     "data": {
      "text/plain": [
       "'Not decreasing area of MiS classified plots (max)'"
      ]
     },
     "metadata": {},
     "output_type": "display_data"
    },
    {
     "data": {
      "text/plain": [
       "0.0"
      ]
     },
     "metadata": {},
     "output_type": "display_data"
    },
    {
     "data": {
      "text/plain": [
       "'Minimum yearly incrase in vol Millions m3 of dead wood (max)'"
      ]
     },
     "metadata": {},
     "output_type": "display_data"
    },
    {
     "data": {
      "text/plain": [
       "0.0"
      ]
     },
     "metadata": {},
     "output_type": "display_data"
    },
    {
     "data": {
      "text/plain": [
       "'Minimum yearly incrase in vol Millions m3 of dead wood (max)'"
      ]
     },
     "metadata": {},
     "output_type": "display_data"
    },
    {
     "data": {
      "text/plain": [
       "0.0"
      ]
     },
     "metadata": {},
     "output_type": "display_data"
    },
    {
     "data": {
      "text/plain": [
       "'Minimum yearly incrase in area of blueberry cover(max)'"
      ]
     },
     "metadata": {},
     "output_type": "display_data"
    },
    {
     "data": {
      "text/plain": [
       "-2186.959251220338"
      ]
     },
     "metadata": {},
     "output_type": "display_data"
    },
    {
     "data": {
      "text/plain": [
       "'MaxMin in area of blueberry cover (max)'"
      ]
     },
     "metadata": {},
     "output_type": "display_data"
    },
    {
     "data": {
      "text/plain": [
       "0.0"
      ]
     },
     "metadata": {},
     "output_type": "display_data"
    },
    {
     "data": {
      "text/plain": [
       "'Decrease harvest in verskog ha harvested(minimize ha over all years)'"
      ]
     },
     "metadata": {},
     "output_type": "display_data"
    },
    {
     "data": {
      "text/plain": [
       "14.792642014150221"
      ]
     },
     "metadata": {},
     "output_type": "display_data"
    },
    {
     "data": {
      "text/plain": [
       "'MAxMin Shanon in plots with larger dbh (not decrease)'"
      ]
     },
     "metadata": {},
     "output_type": "display_data"
    },
    {
     "data": {
      "text/plain": [
       "1.1487399904249305"
      ]
     },
     "metadata": {},
     "output_type": "display_data"
    },
    {
     "name": "stdout",
     "output_type": "stream",
     "text": [
      "100%|████████████████████████████████████████████████████████████████████████████████████| 9/9 [00:23<00:00,  2.59s/it]\n"
     ]
    }
   ],
   "source": [
    "mfo.calculateObjectiveRanges()"
   ]
  },
  {
   "cell_type": "code",
   "execution_count": 50,
   "metadata": {},
   "outputs": [
    {
     "data": {
      "text/plain": [
       "{'harvest_netvalue_Mnok_min': (-409.4405861877023, 1880.5320842263086),\n",
       " 'MiSIncrease': (-23602.359599992953, 20304.223700000028),\n",
       " 'MiSMaxMin': (0.0, 1.0932203331973596),\n",
       " 'deadWoodIncrease': (0.0, 2.710974505387285),\n",
       " 'deadWoodMaxMin': (0.0, 1.222566378844789),\n",
       " 'blueberryIncrease': (-6043.9504642546235, 1363.016648740616),\n",
       " 'blueberryMaxMin': (0.0, 1.0205705631374387),\n",
       " 'Decrease_harvested_in_vernskog_or_steep': (0.0, 147.0235291067866),\n",
       " 'ShannonIncrease': (0.0, 1.1487399904249305)}"
      ]
     },
     "execution_count": 50,
     "metadata": {},
     "output_type": "execute_result"
    }
   ],
   "source": [
    "mfo.objectiveRanges"
   ]
  },
  {
   "cell_type": "markdown",
   "metadata": {},
   "source": [
    "## Show GUI"
   ]
  },
  {
   "cell_type": "code",
   "execution_count": 53,
   "metadata": {},
   "outputs": [
    {
     "data": {
      "text/html": [
       "<style>\n",
       "            .widget-label { min-width: 60% !important; }\n",
       "        </style>"
      ],
      "text/plain": [
       "<IPython.core.display.HTML object>"
      ]
     },
     "metadata": {},
     "output_type": "display_data"
    },
    {
     "data": {
      "text/html": [
       "<h2>Epsilon constraint values</h2>"
      ],
      "text/plain": [
       "<IPython.core.display.HTML object>"
      ]
     },
     "metadata": {},
     "output_type": "display_data"
    },
    {
     "data": {
      "application/vnd.jupyter.widget-view+json": {
       "model_id": "4fc5794af4c34f87b9b24ee8343528b2",
       "version_major": 2,
       "version_minor": 0
      },
      "text/plain": [
       "interactive(children=(FloatSlider(value=-409.4405861877023, description='Maximize netvalue (MAX Millions nok/m…"
      ]
     },
     "metadata": {},
     "output_type": "display_data"
    },
    {
     "data": {
      "text/html": [
       "<h2>Reference point</h2>"
      ],
      "text/plain": [
       "<IPython.core.display.HTML object>"
      ]
     },
     "metadata": {},
     "output_type": "display_data"
    },
    {
     "data": {
      "application/vnd.jupyter.widget-view+json": {
       "model_id": "4c3effc524f240268e65104baba113e2",
       "version_major": 2,
       "version_minor": 0
      },
      "text/plain": [
       "interactive(children=(FloatSlider(value=735.545749019303, description='Maximize netvalue (MAX Millions nok/m2)…"
      ]
     },
     "metadata": {},
     "output_type": "display_data"
    },
    {
     "data": {
      "text/html": [
       "<h2>Enabled constraints</h2>"
      ],
      "text/plain": [
       "<IPython.core.display.HTML object>"
      ]
     },
     "metadata": {},
     "output_type": "display_data"
    },
    {
     "data": {
      "application/vnd.jupyter.widget-view+json": {
       "model_id": "a47dd641cc3745f38b6fe5488e3f1c75",
       "version_major": 2,
       "version_minor": 0
      },
      "text/plain": [
       "interactive(children=(Button(description='Change constraints', style=ButtonStyle()), Output()), _dom_classes=(…"
      ]
     },
     "metadata": {},
     "output_type": "display_data"
    },
    {
     "data": {
      "application/vnd.jupyter.widget-view+json": {
       "model_id": "5e2e8f767234410a9f9b56eae4f3b236",
       "version_major": 2,
       "version_minor": 0
      },
      "text/plain": [
       "Button(description='Print solution', style=ButtonStyle())"
      ]
     },
     "metadata": {},
     "output_type": "display_data"
    }
   ],
   "source": [
    "mfo.showGUI()"
   ]
  },
  {
   "cell_type": "markdown",
   "metadata": {},
   "source": [
    "## Calculate some additional metrics of the latest calculated solution"
   ]
  },
  {
   "cell_type": "markdown",
   "metadata": {},
   "source": [
    "**TODO** print csv etc"
   ]
  },
  {
   "cell_type": "code",
   "execution_count": 55,
   "metadata": {},
   "outputs": [],
   "source": [
    "import pandas as pd"
   ]
  },
  {
   "cell_type": "code",
   "execution_count": 57,
   "metadata": {},
   "outputs": [],
   "source": [
    "import os\n",
    "\n",
    "try:\n",
    "    os.mkdir(\"results\")\n",
    "except FileExistsError:\n",
    "    pass\n",
    "b = []\n",
    "c = []\n",
    "for key in mfo.regimesDecision.keys():\n",
    "    if mfo.regimesDecision[key].solution_value() > 0:\n",
    "        b = b+ [(key[0],x*5+2018, key[1]) for x in range(0,22)]\n",
    "        c = c+ [(key[0],key[1],mfo.regimesDecision[key].solution_value())]\n",
    "data2b = mfo.data.iloc[mfo.data.index.isin(b)]\n",
    "data2b.to_csv(\"./results/solution_alldata_BIO_RCP45.csv\")\n",
    "c1 = pd.DataFrame(c)\n",
    "c1.to_csv(\"./results/solution_BIO_RCP45.csv\")"
   ]
  },
  {
   "cell_type": "code",
   "execution_count": null,
   "metadata": {},
   "outputs": [],
   "source": []
  }
 ],
 "metadata": {
  "kernelspec": {
   "display_name": "Python 3 (ipykernel)",
   "language": "python",
   "name": "python3"
  },
  "language_info": {
   "codemirror_mode": {
    "name": "ipython",
    "version": 3
   },
   "file_extension": ".py",
   "mimetype": "text/x-python",
   "name": "python",
   "nbconvert_exporter": "python",
   "pygments_lexer": "ipython3",
   "version": "3.12.3"
  }
 },
 "nbformat": 4,
 "nbformat_minor": 4
}
